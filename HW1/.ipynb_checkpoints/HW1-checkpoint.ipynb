{
 "cells": [
  {
   "cell_type": "markdown",
   "metadata": {
    "id": "EUYyvaTbTW5t"
   },
   "source": [
    "# ORIE 4580/5580/5581 Assignment 1\n",
    "\n",
    "#### Students: Kahei Lam (kl2235) and Jialuo Huang (jvn001)"
   ]
  },
  {
   "cell_type": "markdown",
   "metadata": {
    "id": "0zNSqRBCspdJ",
    "jp-MarkdownHeadingCollapsed": true
   },
   "source": [
    "### Instructions\n",
    "\n",
    "\n",
    "* Due Thursday September 4, at 11.59pm on Gradescope.\n",
    "* Assignment .ipynb files available for download on [Canvas](https://canvas.cornell.edu/courses/80773/modules#:~:text=Assignments-,Assignments,-Assignments%20module%20publish).\n",
    "* Do all your work in provided notebook (text answers typeset in markdown; show all required code and generate plots inline), and then generate and submit a pdf.\n",
    "* Ideally do assignments in groups of 2, and submit a single pdf with both names\n",
    "* Please show your work and clearly mark your answers.\n",
    "* You can use any code fragments given in class, found online (for example, on StackOverflow), or generated via Gemini/Claude/ChatGPT (you are encouraged to use these for first drafts) **with proper referencing**.\n",
    "* You can also discuss with others (again, please reference them if you do so); but you must write your final answers on your own as a team.\n",
    "\n",
    "\n",
    "\n",
    "### Suggested reading\n",
    "\n",
    "Chapters 1 and 2 of [Introduction to Probability](https://chance.dartmouth.edu/teaching_aids/books_articles/probability_book/book.html) by Grinstead and Snell (This textbook tries to teach probability from a 'simulation-first' perspective. Some of you may also enjoy the historical remarks!)"
   ]
  },
  {
   "cell_type": "markdown",
   "metadata": {
    "id": "YgMiebbUTW5w"
   },
   "source": [
    "## Q1:\n",
    "\n",
    "The probability density function of the random variable $X$ is given by\n",
    "\\begin{align*}\n",
    "f_X(x) =\n",
    "\\begin{cases}\n",
    "\\frac{1}{x} &\\mbox{ if $c\\leq x \\leq 1$,} \\\\\n",
    "0 & \\mbox{otherwise}.\n",
    "\\end{cases}\n",
    "\\end{align*}"
   ]
  },
  {
   "cell_type": "markdown",
   "metadata": {
    "id": "gPZXH2IcTW5w"
   },
   "source": [
    "**a.** What is the value of the constant $c$?\n",
    "\n",
    "<hr>"
   ]
  },
  {
   "cell_type": "markdown",
   "metadata": {
    "id": "8qe-Q6W-TW5w"
   },
   "source": [
    "### Ans.\n",
    "Knowing  \n",
    "$$ \n",
    "\\int_{-\\infty}^{+\\infty} f_X(x) \\, dx=1\n",
    "$$\n",
    "so we can derive it as follow:\n",
    "$$ \n",
    "\\int_{-\\infty}^{+\\infty} f_X(x) \\ \n",
    "= \\int_{c}^{1} \\frac{1}{x} \\, dx \n",
    "= ln1-ln(c) = 0-ln(c) \n",
    "= 1\n",
    "$$\n",
    "so:\n",
    "$$ ln(c) = -1 \\implies \\mathbf{c = e^{-1} = \\frac{1}{c}} \\quad $$"
   ]
  },
  {
   "cell_type": "markdown",
   "metadata": {
    "id": "NWpwkhpzTW5w"
   },
   "source": [
    "\n",
    "<hr>\n",
    "\n",
    "**b.** Compute the cdf $F_X(x)$ and mean $\\mathbb{E}[X]$ of $X$?\n",
    "\n",
    "<hr>"
   ]
  },
  {
   "cell_type": "markdown",
   "metadata": {
    "id": "IwxZ0xSeTW5x"
   },
   "source": [
    "### Ans.  \n",
    "#### 1. To derive the cdf $F_X(x)$\n",
    "\n",
    "The CDF is defined as:  \n",
    "$\n",
    "F_X(x) = P(X \\leq x) = \\int_{-\\infty}^{x} f_X(t) \\, dt\n",
    "$\n",
    "\n",
    "We analyze cases based on the support of $f_X(t)$:  \n",
    "\n",
    "\n",
    "#### Case 1: $x < c$ <br>\n",
    "When $x < c$, the PDF $f_X(t) = 0$ for all $ t \\in (-\\infty, x] $. Thus:  \n",
    "$$\n",
    "F_X(x) = \\int_{-\\infty}^{x} 0 \\, dt = 0\n",
    "$$  \n",
    "\n",
    "\n",
    "#### Case 2: $ c \\leq x \\leq 1 $\n",
    "When $ c \\leq x \\leq 1$, the PDF $ f_X(t) = \\frac{1}{t} $ (valid only on $ [c, x] $, since $ f_X(t) = 0 $ outside $ [c, 1] $). Integrating:  \n",
    "$$\n",
    "F_X(x) = \\int_{c}^{x} \\frac{1}{t} \\, dt = \\ln(x) - \\ln(c)\n",
    "$$  \n",
    "\n",
    "Substitute $ c = \\frac{1}{e} $ (from part A):  \n",
    "$$\n",
    "\\ln(c) = \\ln\\left( \\frac{1}{e} \\right) = -1\n",
    "$$  \n",
    "\n",
    "Thus:  \n",
    "$$\n",
    "F_X(x) =  \\ln(x) + 1\n",
    "$$  \n",
    "\n",
    "\n",
    "#### Case 3: \\( x > 1 \\)  \n",
    "When $ x > 1 $, the integral covers the entire non-zero interval $ [c, 1] $. By the normalization of the PDF:  \n",
    "$$\n",
    "F_X(x) = \\int_{c}^{1} \\frac{1}{t} \\, dt = 1\n",
    "$$  \n",
    "\n",
    "\n",
    "#### Final Result  \n",
    "Combining all cases, the CDF is:  \n",
    "\n",
    "$$\n",
    "F_X(x) = \n",
    "\\begin{cases} \n",
    "0 & \\text{if } x < c, \\\\\n",
    "\\ln(x) + 1 & \\text{if } c \\leq x \\leq 1, \\\\\n",
    "1 & \\text{if } x > 1.\n",
    "\\end{cases}\n",
    "$$  \n",
    "\n",
    "\n",
    "#### 2. Compute the mean $E[x]$ of $X$\n",
    "\n",
    "The expected value $E[x]$ of a continuous random variable $X$ is defined as: \n",
    "$$\n",
    "E[x] = \\int_{-\\infty}^{+\\infty} x \\cdot f_X(x) \\, dx\n",
    "$$\n",
    "\n",
    "Given the probability density function of $X$\n",
    "$$\n",
    "f_X(x) = \n",
    "\\begin{cases} \n",
    "\\displaystyle \\frac{1}{x} & \\text{if } c \\leq x \\leq 1, \\\\\n",
    "0 & \\text{otherwise}.\n",
    "\\end{cases}\n",
    "$$\n",
    "where $c=\\frac{1}{e}$ (from part A) \n",
    "\n",
    "<br>\n",
    "Since $ f_X(x) = 0 $ outside $ [c, 1] $, the integral simplifies to:  \n",
    "$$\n",
    "\\mathbb{E}[X] = \\int_{c}^{1} x \\cdot \\frac{1}{x} \\, dx = \\left[ x \\right]_{c}^{1} = 1 - c = 1-\\frac{1}{e}\n",
    "$$\n",
    "\n"
   ]
  },
  {
   "cell_type": "markdown",
   "metadata": {
    "id": "epaMtFY3TW5x"
   },
   "source": [
    "\n",
    "<hr>\n",
    "\n",
    "**c.** Consider the random variable $Y = 1+\\ln(X)$. Compute the cdf $F_Y(y)$. Based on this, can you identify the distribution of $Y$?\n",
    "\n",
    "\n",
    "<hr>"
   ]
  },
  {
   "cell_type": "markdown",
   "metadata": {
    "id": "hXTW0IEMTW5x"
   },
   "source": [
    "### Ans.\n",
    "The cumulative distribution function of $Y$ is defined as:\n",
    "$$ F_Y(y) = P(Y \\leq y) $$\n",
    "substitute $$ Y = 1 + ln(X) $$\n",
    "so $$F_Y(y) = P\\left(1+ln(X) \\leq y\\right) = P\\left(X \\leq e^{y-1}\\right) $$\n",
    "<br>\n",
    "From previous results, $X$ has the PDF:\n",
    "$$ f_X(x) = \n",
    "\\begin{cases} \n",
    "\\frac{1}{x} & \\text{if } \\frac{1}{e} \\leq x \\leq 1, \\\\\n",
    "0 & \\text{otherwise}.\n",
    "\\end{cases}\n",
    "$$\n",
    "\n",
    "The support of $ X $ is $ \\left[\\frac{1}{e}, 1\\right] $, which corresponds to a range for $ Y $:\n",
    "- When $ X = \\frac{1}{e} $: $ Y = 1 + \\ln\\left(\\frac{1}{e}\\right) = 0 $\n",
    "- When $ X = 1 $: $ Y = 1 + \\ln(1) = 1 $\n",
    "<br>\n",
    "Thus, $Y$ in [0, 1]. We analyze three cases for $Y$:\n",
    "\n",
    "#### Case1: $y<0$\n",
    "For $ y < 0 $, $ e^{y-1} < \\frac{1}{e} $ (since $ e^x $ is increasing). <br>\n",
    "Since $ X \\geq \\frac{1}{e} $:\n",
    "$$\n",
    "P\\left(X \\leq e^{y-1}\\right) = 0 \\implies F_Y(y) = 0\n",
    "$$\n",
    "#### Case2: $ 0 \\leq y \\leq 1 $\n",
    "For $ 0 \\leq y \\leq 1$, $\\frac{1}{e} \\leq e^{y-1} \\leq 1 $<br>\n",
    "Using the PDF of \n",
    "$$\n",
    "F_Y(y) = \\int_{\\frac{1}{e}}^{e^{y-1}} f_X(x) \\, dx = \\int_{\\frac{1}{e}}^{e^{y-1}} \\frac{1}{x} \\, dx \n",
    "$$\n",
    "\n",
    "Evaluate the integral:\n",
    "$$\n",
    "\\int_{\\frac{1}{e}}^{e^{y-1}} \\frac{1}{x} \\, dx = \\left[\\ln(x)\\right]_{\\frac{1}{e}}^{e^{y-1}} = \\ln\\left(e^{y-1}\\right) - \\ln\\left(\\frac{1}{e}\\right)\n",
    "$$\n",
    "Simplify using logarithmic properties:\n",
    "$$\n",
    "\\ln\\left(e^{y-1}\\right) = y - 1 \\quad \\text{and} \\quad \\ln\\left(\\frac{1}{e}\\right) = -1\n",
    "$$\n",
    "Thus:\n",
    "$$\n",
    "F_Y(y) = (y - 1) - (-1) = y\n",
    "$$\n",
    "#### Case3: $y>1$\n",
    "For $y>1$, $e^{y-1} >1$.\n",
    "Since $X \\leq 1$:\n",
    "$$\n",
    "P\\left(X \\leq e^{y-1}\\right) = 1 \\implies F_Y(y) = 1\n",
    "$$\n",
    "\n",
    "#### Result: \n",
    "Combining all cases, the CDF of $Y$ is :\n",
    "$$\n",
    "F_Y(y) = \n",
    "\\begin{cases}\n",
    "0 & \\text{if } y<0, \\\\\n",
    "y & \\text{if } 0 \\leq y \\leq 1, \\\\\n",
    "1 & \\text{if } y>1.\n",
    "\\end{cases}\n",
    "$$\n",
    "\n",
    "The CDF $F_Y(y)$ matches the cdf of a uniform distribution over the interval $[0, 1]$, denotted $Y \\sim \\text{Uniform}(0, 1) $\n",
    "\n",
    "A uniform distribution $ \\text{Uniform}(a, b) $ has the CDF:\n",
    "$$\n",
    "F_Z(z) = \n",
    "\\begin{cases}\n",
    "0 & \\text{if } z<a, \\\\\n",
    "\\frac{z-a}{b-a} & \\text{if } a \\leq z\\leq b, \\\\\n",
    "1 & \\text{if } z>b.\n",
    "\\end{cases}\n",
    "$$\n",
    "For $a=0$ and $b=1$, this simplifies to $F_Z(z) = z$, confirming $Y \\sim \\text{Uniform} (0, 1)$"
   ]
  },
  {
   "cell_type": "markdown",
   "metadata": {
    "id": "R6csIjUHTW5x"
   },
   "source": [
    "\n",
    "<hr>\n",
    "\n",
    "\n",
    "**d.** Now let $U\\sim U[0,1]$ be a uniformly distributed random variable on $[0,1]$, and consider the random variable $Z = e^{U-1}$. Compute the pdf $f_Z(z)$. Also, compare this with the distribution $f_X(x)$ you got for $X$ in part (a)\n",
    "\n",
    "\n",
    "<hr>"
   ]
  },
  {
   "cell_type": "markdown",
   "metadata": {
    "id": "MO6yd2ErTW5y"
   },
   "source": [
    "### Ans.\n",
    "The PDF of a uniformly distributd random variable $U$ on $[0, 1]$ is :\n",
    "\n",
    "$$\n",
    "f_U[u] = \n",
    "\\begin{cases}\n",
    "1 & \\text{if } 0 \\leq u \\leq 1, \\\\\n",
    "0 & \\text{otherwise}.\n",
    "\\end{cases}\n",
    "$$\n",
    "\n",
    "The CDF of $Z$ is defined as:\n",
    "$$\n",
    "F_Z(z) = p(Z \\leq z) = P\\left(e^{u-1} \\leq z\\right) = P(u \\leq ln(z)+1)\n",
    "$$\n",
    "\n",
    "And now analyze cases for $F_Z(z)$ based on the rangge of $z$:\n",
    "#### Case1: $z<e^{-1}$\n",
    "If $z<e^{-1}$, then $ln(z)+1<0$. Since $U \\geq 0$ : \n",
    "\n",
    "$$\n",
    "P\\left(U \\leq \\ln(z) + 1\\right) = 0 \\implies F_Z(z) = 0\n",
    "$$\n",
    "\n",
    "#### Case2: $e^{-1} \\leq z \\leq 1$\n",
    "If $ e^{-1} \\leq z \\leq 1 $, then $ 0 \\leq \\ln(z) + 1 \\leq 1 $. Using the PDF of $ U $:  \n",
    "$$\n",
    "F_Z(z) = \\int_{0}^{\\ln(z) + 1} f_U(u) \\, du = \\int_{0}^{\\ln(z) + 1} 1 \\, du\n",
    "$$\n",
    "\n",
    "Evaluate the integral:  \n",
    "$$\n",
    "\\int_{0}^{\\ln(z) + 1} 1 \\, du = \\left[ u \\right]_{0}^{\\ln(z) + 1} = \\ln(z) + 1\n",
    "$$\n",
    "\n",
    "#### Case 3: $ z > 1 $\n",
    "If $ z > 1 $, then $ \\ln(z) + 1 > 1 $. Since $ U \\leq 1 $:  \n",
    "$$\n",
    "P\\left(U \\leq \\ln(z) + 1\\right) = P(U \\leq 1) = 1 \\implies F_Z(z) = 1\n",
    "$$\n",
    "\n",
    "\n",
    "Thus, the PDF of $ Z $ is:  \n",
    "$$\n",
    "f_Z(z) = \n",
    "\\begin{cases} \n",
    "\\displaystyle \\frac{1}{z} & \\text{if } e^{-1} \\leq z \\leq 1, \\\\\n",
    "0 & \\text{otherwise}.\n",
    "\\end{cases}\n",
    "$$\n",
    "\n",
    "From Part (a), the PDF of $ X $ is:  \n",
    "$$\n",
    "f_X(x) = \n",
    "\\begin{cases} \n",
    "\\displaystyle \\frac{1}{x} & \\text{if } e^{-1} \\leq x \\leq 1, \\\\\n",
    "0 & \\text{otherwise}.\n",
    "\\end{cases}\n",
    "$$\n",
    "\n",
    "We observe that $ f_Z(z) = f_X(z) $. Thus, $ Z $ and $ X $ follow the **same distribution**.  \n"
   ]
  },
  {
   "cell_type": "markdown",
   "metadata": {
    "id": "09hHhg3HTW5y"
   },
   "source": [
    "<hr>\n",
    "\n",
    "\n",
    "**e.** **(OPTIONAL)** Now consider a random variable $X$ with cdf $F_X(x)$, and another random variable $Y=F_X(X)$. What is the distribution of $Y$? Next, let $F^{-1}_X(\\cdot)$ denote the \\emph{inverse} function of $F_X(\\cdot)$, i.e., $F_X(x)=y \\Leftrightarrow F^{-1}_X(y) = x$, and let $U\\sim U[0,1]$ be a uniformly distributed r.v. What is the distribution of $F^{-1}_X(U)$?\n",
    "\n",
    "\n",
    "<hr>"
   ]
  },
  {
   "cell_type": "markdown",
   "metadata": {
    "id": "GBjKzWyKTW5y"
   },
   "source": [
    "### Ans.\n",
    "\n",
    "#### Part1: Distribution of $ Y = F_X(X) $ \n",
    "\n",
    "To find the distribution of $ Y = F_X(X) $, we analyze its CDF of $F_Y(y)$\n",
    "1. **Definition of $ F_Y(y) $** <br>\n",
    "   The CDF of $ Y $ is:  \n",
    "   $$\n",
    "   F_Y(y) = P(Y \\leq y) = P\\left(F(X) \\leq y\\right)\n",
    "   $$\n",
    "2. **Case Analysis for $F_Y(y)$**<br>\n",
    "   Since $F_X(x)$ is a CDF, its range is $[0, 1]$. We consider three cases:<br>\n",
    "   - Case1: $y<0$<br>\n",
    "     $ F_X(X) \\geq 0 $ for all $ X $, so:  \n",
    "     $$\n",
    "     F_Y(y) = P\\left(F_X(X) \\leq y\\right) = 0\n",
    "     $$\n",
    "   - Case2: $y \\geq 1\\ $<br>\n",
    "     $ F_X(x) \\leq 1$ for all $X$, so:\n",
    "     $$\n",
    "     F_Y(y) = P\\left(F_X(x) \\leq y\\right)=1\n",
    "     $$\n",
    "   - Case3: $0 \\leq y \\leq 1$<br>\n",
    "     Since $F_X(x)$ is non-decreasing, $F_X(X) \\leq y \\iff X \\leq F_X^{-1}(y)$. Thus:\n",
    "     $$\n",
    "     F_Y(y) = P\\left(X \\leq F_X^{-1}(y)\\right) = F_X\\left(F_X^{-1}(y)\\right) = y\n",
    "     $$\n",
    "\n",
    "3. **Conclusion for $ Y $**  \n",
    "   Combining cases, the CDF of $ Y $ is:  \n",
    "   $$\n",
    "   F_Y(y) = \n",
    "   \\begin{cases} \n",
    "   0 & \\text{if } y < 0, \\\\\n",
    "   y & \\text{if } 0 \\leq y \\leq 1, \\\\\n",
    "   1 & \\text{if } y > 1.\n",
    "   \\end{cases}\n",
    "   $$\n",
    "   This matches the CDF of a uniform distribution on $[0, 1]$, so:  \n",
    "   $$\n",
    "   Y \\sim U[0, 1]\n",
    "   $$\n",
    "\n",
    "#### Part 2: Distribution of $ F_X^{-1}(U) $ where $ U \\sim U[0, 1] $\n",
    "\n",
    "Let $ Z = F_X^{-1}(U) $. To find its distribution, analyze its CDF $ F_Z(z) :\n",
    "\n",
    "1. **Definition of $ F_Z(z) $**  \n",
    "   The CDF of $ Z $ is:  \n",
    "   $$\n",
    "   F_Z(z) = P(Z \\leq z) = P\\left(F_X^{-1}(U) \\leq z\\right)\n",
    "   $$\n",
    "\n",
    "\n",
    "2. **Simplify the Probability**  \n",
    "   Applying $ F_X $ to both sides of $ F_X^{-1}(U) \\leq z $ (using monotonicity of $ F_X $:  \n",
    "   $$\n",
    "   U \\leq F_X(z)\n",
    "   $$ \n",
    "\n",
    "   Since $ U \\sim U[0, 1] $, its CDF is $ F_U(u) = u $ for $ 0 \\leq u \\leq 1 $. Thus:  \n",
    "   $$\n",
    "   F_Z(z) = P\\left(U \\leq F_X(z)\\right) = F_U\\left(F_X(z)\\right) = F_X(z)\n",
    "   $$\n",
    "\n",
    "\n",
    "3. **Conclusion for \\( Z \\)**  \n",
    "   The CDF of $ Z = F_X^{-1}(U) $ equals the CDF of $ X $, so:  \n",
    "   $$\n",
    "   F_X^{-1}(U) \\sim X\n",
    "   $$  \n",
    "\n",
    "\n",
    "### Final Results\n",
    "1. $ Y = F_X(X) $ follows a uniform distribution: $ \\boxed{Y \\sim U[0, 1]} $ \n",
    "2. $ F_X^{-1}(U) $ has the same distribution as $ X $: $ \\boxed{F_X^{-1}(U) \\sim X} $\n"
   ]
  },
  {
   "cell_type": "markdown",
   "metadata": {
    "id": "3saDCKEhTpkl"
   },
   "source": [
    "<hr><hr>"
   ]
  },
  {
   "cell_type": "markdown",
   "metadata": {
    "id": "7TZs5ff_TW5y"
   },
   "source": [
    "## Q2:\n",
    "Let $X$ and $Y$ be Bernoulli random variables with success probability $p$ and $q$ respectively, i.e.,\n",
    "\\begin{align*}\n",
    "X = \\begin{cases} 1 & \\text{with probability $p$} \\\\ 0 & \\text{with probability $1-p$} \\end{cases}\n",
    "\\qquad,\\qquad\n",
    "Y = \\begin{cases} 1 & \\text{with probability $q$} \\\\ 0 & \\text{with probability $1-q$} \\end{cases}\n",
    "\\end{align*}\n",
    "Let $\\mathbb{P}( X = 1 \\text{ and } Y= 1 ) = \\tfrac 13$."
   ]
  },
  {
   "cell_type": "markdown",
   "metadata": {
    "id": "5YyFEgraTW5y"
   },
   "source": [
    "<hr>\n",
    "\n",
    "**a.** What is $Cov( X, Y )$?\n",
    "\n",
    "\n",
    "<hr>"
   ]
  },
  {
   "cell_type": "markdown",
   "metadata": {
    "id": "wO7BUQZKTW5y"
   },
   "source": [
    "### Ans.\n",
    "Fill in answer"
   ]
  },
  {
   "cell_type": "markdown",
   "metadata": {
    "id": "XacAsphPTW5y"
   },
   "source": [
    "<hr>\n",
    "\n",
    "**b.** For what values of $p$ and $q$ are $X$ and $Y$ uncorrelated?\n",
    "\n",
    "<hr>"
   ]
  },
  {
   "cell_type": "markdown",
   "metadata": {
    "id": "4yurfCfyTW5y"
   },
   "source": [
    "### Ans.\n",
    "Fill in answer"
   ]
  },
  {
   "cell_type": "markdown",
   "metadata": {
    "id": "SYys9nNgTW5y"
   },
   "source": [
    "<hr>\n",
    "\n",
    "**c.** Are $X$ and $Y$ independent for the values in (b)?\n",
    "\n",
    "<hr>"
   ]
  },
  {
   "cell_type": "markdown",
   "metadata": {
    "id": "zS3BzVrsTW5y"
   },
   "source": [
    "### Ans.\n",
    "Fill in answer"
   ]
  },
  {
   "cell_type": "markdown",
   "metadata": {
    "id": "WHW2dS1bTW5y"
   },
   "source": [
    "<hr>\n",
    "\n",
    "**d.** Suppose you have a function *Bernoulli*$(r)$ that simulates the outcomes of a Bernoulli random variable for any success probability $r$, i.e., it will generate a $1$ with probability $r$ and $0$ with probability $1-r$.\n",
    "\n",
    "Explain how you can use this function to generate a realization of $X$ and $Y$ above, for $p=\\tfrac 12$, $q=\\tfrac 23$, and with $\\mathbb{P}( X = 1 \\text{ and } Y= 1 ) = \\tfrac 13$.\n",
    "\n",
    "\n",
    "<hr>"
   ]
  },
  {
   "cell_type": "markdown",
   "metadata": {
    "id": "ZSVjCg70TW5y"
   },
   "source": [
    "### Ans.\n",
    "Fill in answer"
   ]
  },
  {
   "cell_type": "markdown",
   "metadata": {
    "id": "rTopMG7gTW5z"
   },
   "source": [
    "<hr>\n",
    "\n",
    "**e.** Explain how you can use this function to also get a realization of $X$ and $Y$ above if $p=\\tfrac 12$, $q=\\tfrac 12$ (and still, $\\mathbb{P}( X = 1 \\text{ and } Y= 1 ) = \\tfrac 13$).\n",
    "\n",
    "<hr>"
   ]
  },
  {
   "cell_type": "markdown",
   "metadata": {
    "id": "Zga6LsmbTW5z"
   },
   "source": [
    "### Ans.\n",
    "Fill in answer"
   ]
  },
  {
   "cell_type": "markdown",
   "metadata": {
    "id": "08QdZiThTtMQ"
   },
   "source": [
    "\n",
    "\n",
    "<hr><hr>"
   ]
  },
  {
   "cell_type": "markdown",
   "metadata": {
    "id": "j-H2dXrUTW5z"
   },
   "source": [
    "## Q3:\n",
    "In Chapter $1$ example $1.4$, Grinstead and Snell talk about measuring two natural quantities associated with the so-called *simple random walk* $S_0 = 0, S_t = S_{t-1}+ X_t$, where $X_t = \\pm 1$ with probability $\\frac{1}{2}$ (they describe this as a simple betting game between Peter and Paul, where at each time $t$ they toss a fair coin, and if it comes up heads, then Peter wins a penny from Paul, else Paul wins a penny from Peter). We will now replicate their experiments."
   ]
  },
  {
   "cell_type": "markdown",
   "metadata": {
    "id": "2suVWr0YTW5z"
   },
   "source": [
    "**a.** Generate $n = 1000$ copies of a simple random walk $S^i = (S^i_0,S^i_1,\\ldots,S^i_{T})$ (with $T=100$ and $i\\in\\{1,2,\\ldots,n\\}$). For each walk, compute $Z^i_T = \\frac{S^i_T}{T}$ (i.e., the per-round winnings of Paul after $100$ games), as well as $W^i_T = \\frac{1}{T}\\sum_{t=1}^{T}\\mathbb{1}_{\\{S^i_t>0\\}}$ (i.e., the fraction of rounds in $[1,T]$ where Paul is in the lead). Plot a histogram of both these quantities (using `plt.hist(data, density=True,bins='auto')`).\n",
    "\n",
    "\n",
    "<hr>"
   ]
  },
  {
   "cell_type": "markdown",
   "metadata": {
    "id": "_s8TP93gTW5z"
   },
   "source": [
    "### Ans.\n",
    "Fill in answer"
   ]
  },
  {
   "cell_type": "markdown",
   "metadata": {
    "id": "EFw0sBYATW5z"
   },
   "source": [
    "**b.** Repeat for $T=1000$ and $T=10000$."
   ]
  },
  {
   "cell_type": "markdown",
   "metadata": {
    "id": "CflO1T5fTW5z"
   },
   "source": [
    "### Ans."
   ]
  },
  {
   "cell_type": "code",
   "execution_count": null,
   "metadata": {
    "id": "Lpl1xJlMTW5z"
   },
   "outputs": [],
   "source": []
  },
  {
   "cell_type": "markdown",
   "metadata": {
    "id": "gZQvVRU-TW5z"
   },
   "source": [
    "**c.** How do you think the distributions for $Z_T$ and $W_T$ behave as $T→\\infty$? Can you give some intuition why this is the case?"
   ]
  },
  {
   "cell_type": "markdown",
   "metadata": {
    "id": "HlYyn4nBTW5z"
   },
   "source": [
    "### Ans."
   ]
  },
  {
   "cell_type": "markdown",
   "metadata": {
    "id": "wwlp2-O0TW50"
   },
   "source": [
    "<hr><hr>\n",
    "\n",
    "## Q4:\n",
    "As we discuss in class, one major application of simulation is to estimate difficult integrals. In this question, we will perform a simple simulation to estimate the area of a unit circle."
   ]
  },
  {
   "cell_type": "markdown",
   "metadata": {
    "id": "vXXa5TC2TW50"
   },
   "source": [
    "**a.** Generate $10,000$ points uniformly distributed in $[-1,1]$ and plot a histogram of these points using $50$ uniform-sized bins.\n",
    "\n",
    "*Hint: See the histogram function in matplotlib; in particular, if your data is stored in an array $X$, then you can use* `<plt.hist(X,bins = 50,density = True)>`\n",
    "\n",
    "\n",
    "<hr>"
   ]
  },
  {
   "cell_type": "markdown",
   "metadata": {
    "id": "l1XcRbEZTW50"
   },
   "source": [
    "### Ans.\n",
    "See plot below."
   ]
  },
  {
   "cell_type": "code",
   "execution_count": null,
   "metadata": {
    "id": "oiBUteBVTW50"
   },
   "outputs": [],
   "source": []
  },
  {
   "cell_type": "markdown",
   "metadata": {
    "id": "eBLHkRcPTW50"
   },
   "source": [
    "<hr>\n",
    "\n",
    "**b.** Generate $10,000$ points that are uniformly distributed in a square around the origin with corners $(-1,-1),(-1,1),(1,-1)$ and $(1,1)$. To do this, independently generate the $x$- and $y$-coordinates of a point to be uniformly distributed in $(-1,1)$. Create an additional array $Z$ of length $10,000$, which indicates whether each random point lies within a circle of radius $1$ centered at the origin. Plot these points using a scatter plot with different colors for points within the circle and points outside.\n",
    "\n",
    "*Hint: If you store your coordinate vectors as $X$ and $Y$ and the vector of indicators as $Z$, then use* <plt.scatter(X,Y, c = Z, s = 2.0, cmap=plt.cm.Paired)>\n",
    "\n",
    "\n",
    "<hr>"
   ]
  },
  {
   "cell_type": "markdown",
   "metadata": {
    "id": "Dgx8q3TeTW50"
   },
   "source": [
    "### Ans.\n",
    "See plot below."
   ]
  },
  {
   "cell_type": "code",
   "execution_count": null,
   "metadata": {
    "id": "spO1vsKSTW50"
   },
   "outputs": [],
   "source": []
  },
  {
   "cell_type": "markdown",
   "metadata": {
    "id": "bgbLvZJ8TW6B"
   },
   "source": [
    "\n",
    "<hr>\n",
    "\n",
    "\n",
    "**c.** Define $N_{circle}$ to be the (random) number of points which lie within the circle. What is $\\mathbb{E}[N_{circle}]$ and $Var(N_{circle})$ (express your answer in terms of $\\pi$)?\n",
    "\n",
    "Suppose also that you did not know the value of $\\pi$; can you still argue that $Var(N_{circle})\\leq \\frac{n}{4}$?\n",
    "\n",
    "\n",
    "<hr>"
   ]
  },
  {
   "cell_type": "markdown",
   "metadata": {
    "id": "zmQP6LDoIizY"
   },
   "source": [
    "### Ans."
   ]
  },
  {
   "cell_type": "markdown",
   "metadata": {
    "id": "8wGMvPWCGO1W"
   },
   "source": [
    "<hr>\n",
    "\n",
    "**d.** Given $n$ random points generated as in part (b), we can estimate $\\pi$ as $\\pi_n = \\frac{4N_{circle}}{n}$ for $\\pi$ (where as before $N_{circle}$ is the random number of points that lie inside the circle). For $n$ between $1$ and $1000$, plot the relative error $|\\pi_n - \\pi|/\\pi$. Also plot the function $1/\\sqrt{n}$ on the same plot. How do the relative errors compare to this function?\n",
    "\n",
    "\n",
    "<hr>"
   ]
  },
  {
   "cell_type": "markdown",
   "metadata": {
    "id": "ahHXq2lrIf7P"
   },
   "source": [
    "### Ans."
   ]
  },
  {
   "cell_type": "code",
   "execution_count": null,
   "metadata": {
    "id": "637229DDIgNH"
   },
   "outputs": [],
   "source": []
  },
  {
   "cell_type": "markdown",
   "metadata": {
    "id": "2n3nXGxSnwQQ"
   },
   "source": [
    "<hr>\n",
    "e. Recall that a $95\\%$ confidence interval for an estimate is given by $\\pi_n \\pm 1.96\\sqrt{Var(\\pi_n)}$ (the relative error plot in previous question shows why this is the case). Using your upper bound for $Var(\\pi_n)$ from part (c), compute what value of $n$ is required to ensure that the width of the confidence interval is less than $0.001$, and then, simulate using this value $n$ and report an estimate with a $95\\%$ confidence interval for $\\pi$ that is accurate up to the second digit after the decimal point.\n",
    "\n",
    "\n",
    "\n",
    "\n",
    "<hr>\n"
   ]
  },
  {
   "cell_type": "markdown",
   "metadata": {
    "id": "8h31VHm5qkNv"
   },
   "source": [
    "### Ans."
   ]
  },
  {
   "cell_type": "code",
   "execution_count": null,
   "metadata": {
    "id": "-VqKrpAIqkzP"
   },
   "outputs": [],
   "source": []
  },
  {
   "cell_type": "markdown",
   "metadata": {
    "id": "xvs6W-xeTW6B"
   },
   "source": [
    "<hr><hr>\n",
    "\n",
    "\n",
    "\n",
    "**Q5:** (**For 5580/5581 students; OPTIONAL for 4580**)\n",
    "\n",
    "Above we used simulation to compute the area of a unit circle. Using a similar process, we can find the volume of a 'sphere' in $n$ dimensions. Estimate this volume for dimensions $d\\in\\{2,3,\\ldots,20\\}$, using $100,000$ samples in each dimension. How does your estimate of the volume of the sphere behave as the dimension increases? Also, do your estimates seem smooth or noisy (and if the latter, why)?"
   ]
  },
  {
   "cell_type": "markdown",
   "metadata": {
    "id": "cZxWODA4q5Pg"
   },
   "source": [
    "### Ans."
   ]
  },
  {
   "cell_type": "code",
   "execution_count": null,
   "metadata": {
    "id": "ESw6wfflTW6B"
   },
   "outputs": [],
   "source": []
  },
  {
   "cell_type": "markdown",
   "metadata": {
    "id": "4Fz6352gFCp_"
   },
   "source": [
    "\n",
    "\\noindent\\rule{\\linewidth}{0.4pt}\n",
    "\n",
    "\n",
    "\n",
    "\\noindent\\rule{\\linewidth}{0.4pt}"
   ]
  },
  {
   "cell_type": "code",
   "execution_count": null,
   "metadata": {},
   "outputs": [],
   "source": []
  }
 ],
 "metadata": {
  "colab": {
   "provenance": []
  },
  "kernelspec": {
   "display_name": "Python 3 (ipykernel)",
   "language": "python",
   "name": "python3"
  },
  "language_info": {
   "codemirror_mode": {
    "name": "ipython",
    "version": 3
   },
   "file_extension": ".py",
   "mimetype": "text/x-python",
   "name": "python",
   "nbconvert_exporter": "python",
   "pygments_lexer": "ipython3",
   "version": "3.13.5"
  }
 },
 "nbformat": 4,
 "nbformat_minor": 4
}
