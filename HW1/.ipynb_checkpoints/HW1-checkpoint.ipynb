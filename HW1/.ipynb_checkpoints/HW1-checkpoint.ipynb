{
 "cells": [
  {
   "cell_type": "markdown",
   "metadata": {
    "id": "EUYyvaTbTW5t"
   },
   "source": [
    "# ORIE 4580/5580/5581 Assignment 1\n",
    "\n",
    "#### Students: S. Ulam (su001) and J. von Neuman (jvn001)"
   ]
  },
  {
   "cell_type": "markdown",
   "metadata": {
    "id": "0zNSqRBCspdJ"
   },
   "source": [
    "### Instructions\n",
    "\n",
    "\n",
    "* Due Thursday September 4, at 11.59pm on Gradescope.\n",
    "* Assignment .ipynb files available for download on [Canvas](https://canvas.cornell.edu/courses/80773/modules#:~:text=Assignments-,Assignments,-Assignments%20module%20publish).\n",
    "* Do all your work in provided notebook (text answers typeset in markdown; show all required code and generate plots inline), and then generate and submit a pdf.\n",
    "* Ideally do assignments in groups of 2, and submit a single pdf with both names\n",
    "* Please show your work and clearly mark your answers.\n",
    "* You can use any code fragments given in class, found online (for example, on StackOverflow), or generated via Gemini/Claude/ChatGPT (you are encouraged to use these for first drafts) **with proper referencing**.\n",
    "* You can also discuss with others (again, please reference them if you do so); but you must write your final answers on your own as a team.\n",
    "\n",
    "\n",
    "\n",
    "### Suggested reading\n",
    "\n",
    "Chapters 1 and 2 of [Introduction to Probability](https://chance.dartmouth.edu/teaching_aids/books_articles/probability_book/book.html) by Grinstead and Snell (This textbook tries to teach probability from a 'simulation-first' perspective. Some of you may also enjoy the historical remarks!)"
   ]
  },
  {
   "cell_type": "markdown",
   "metadata": {
    "id": "YgMiebbUTW5w"
   },
   "source": [
    "## Q1:\n",
    "\n",
    "The probability density function of the random variable $X$ is given by\n",
    "\\begin{align*}\n",
    "f_X(x) =\n",
    "\\begin{cases}\n",
    "\\frac{1}{x} &\\mbox{ if $c\\leq x \\leq 1$,} \\\\\n",
    "0 & \\mbox{otherwise}.\n",
    "\\end{cases}\n",
    "\\end{align*}"
   ]
  },
  {
   "cell_type": "markdown",
   "metadata": {
    "id": "gPZXH2IcTW5w"
   },
   "source": [
    "**a.** What is the value of the constant $c$?\n",
    "\n",
    "<hr>"
   ]
  },
  {
   "cell_type": "markdown",
   "metadata": {
    "id": "8qe-Q6W-TW5w"
   },
   "source": [
    "### Ans.\n",
    "\n",
    "Fill in answer"
   ]
  },
  {
   "cell_type": "markdown",
   "metadata": {
    "id": "NWpwkhpzTW5w"
   },
   "source": [
    "\n",
    "<hr>\n",
    "\n",
    "**b.** Compute the cdf $F_X(x)$ and mean $\\mathbb{E}[X]$ of $X$?\n",
    "\n",
    "<hr>"
   ]
  },
  {
   "cell_type": "markdown",
   "metadata": {
    "id": "IwxZ0xSeTW5x"
   },
   "source": [
    "### Ans.\n",
    "\n",
    "Fill in answer"
   ]
  },
  {
   "cell_type": "markdown",
   "metadata": {
    "id": "epaMtFY3TW5x"
   },
   "source": [
    "\n",
    "<hr>\n",
    "\n",
    "**c.** Consider the random variable $Y = 1+\\ln(X)$. Compute the cdf $F_Y(y)$. Based on this, can you identify the distribution of $Y$?\n",
    "\n",
    "\n",
    "<hr>"
   ]
  },
  {
   "cell_type": "markdown",
   "metadata": {
    "id": "hXTW0IEMTW5x"
   },
   "source": [
    "### Ans.\n",
    "Fill in answer"
   ]
  },
  {
   "cell_type": "markdown",
   "metadata": {
    "id": "R6csIjUHTW5x"
   },
   "source": [
    "\n",
    "<hr>\n",
    "\n",
    "\n",
    "**d.** Now let $U\\sim U[0,1]$ be a uniformly distributed random variable on $[0,1]$, and consider the random variable $Z = e^{U-1}$. Compute the pdf $f_Z(z)$. Also, compare this with the distribution $f_X(x)$ you got for $X$ in part (a)\n",
    "\n",
    "\n",
    "<hr>"
   ]
  },
  {
   "cell_type": "markdown",
   "metadata": {
    "id": "MO6yd2ErTW5y"
   },
   "source": [
    "### Ans.\n",
    "Fill in answer"
   ]
  },
  {
   "cell_type": "markdown",
   "metadata": {
    "id": "09hHhg3HTW5y"
   },
   "source": [
    "<hr>\n",
    "\n",
    "\n",
    "**e.** **(OPTIONAL)** Now consider a random variable $X$ with cdf $F_X(x)$, and another random variable $Y=F_X(X)$. What is the distribution of $Y$? Next, let $F^{-1}_X(\\cdot)$ denote the \\emph{inverse} function of $F_X(\\cdot)$, i.e., $F_X(x)=y \\Leftrightarrow F^{-1}_X(y) = x$, and let $U\\sim U[0,1]$ be a uniformly distributed r.v. What is the distribution of $F^{-1}_X(U)$?\n",
    "\n",
    "\n",
    "<hr>"
   ]
  },
  {
   "cell_type": "markdown",
   "metadata": {
    "id": "GBjKzWyKTW5y"
   },
   "source": [
    "### Ans.\n",
    "Fill in answer"
   ]
  },
  {
   "cell_type": "markdown",
   "metadata": {
    "id": "3saDCKEhTpkl"
   },
   "source": [
    "<hr><hr>"
   ]
  },
  {
   "cell_type": "markdown",
   "metadata": {
    "id": "7TZs5ff_TW5y"
   },
   "source": [
    "## Q2:\n",
    "Let $X$ and $Y$ be Bernoulli random variables with success probability $p$ and $q$ respectively, i.e.,\n",
    "\\begin{align*}\n",
    "X = \\begin{cases} 1 & \\text{with probability $p$} \\\\ 0 & \\text{with probability $1-p$} \\end{cases}\n",
    "\\qquad,\\qquad\n",
    "Y = \\begin{cases} 1 & \\text{with probability $q$} \\\\ 0 & \\text{with probability $1-q$} \\end{cases}\n",
    "\\end{align*}\n",
    "Let $\\mathbb{P}( X = 1 \\text{ and } Y= 1 ) = \\tfrac 13$."
   ]
  },
  {
   "cell_type": "markdown",
   "metadata": {
    "id": "5YyFEgraTW5y"
   },
   "source": [
    "<hr>\n",
    "\n",
    "**a.** What is $Cov( X, Y )$?\n",
    "\n",
    "\n",
    "<hr>"
   ]
  },
  {
   "cell_type": "markdown",
   "metadata": {
    "id": "wO7BUQZKTW5y"
   },
   "source": [
    "### Ans.\n",
    "Fill in answer"
   ]
  },
  {
   "cell_type": "markdown",
   "metadata": {
    "id": "XacAsphPTW5y"
   },
   "source": [
    "<hr>\n",
    "\n",
    "**b.** For what values of $p$ and $q$ are $X$ and $Y$ uncorrelated?\n",
    "\n",
    "<hr>"
   ]
  },
  {
   "cell_type": "markdown",
   "metadata": {
    "id": "4yurfCfyTW5y"
   },
   "source": [
    "### Ans.\n",
    "Fill in answer"
   ]
  },
  {
   "cell_type": "markdown",
   "metadata": {
    "id": "SYys9nNgTW5y"
   },
   "source": [
    "<hr>\n",
    "\n",
    "**c.** Are $X$ and $Y$ independent for the values in (b)?\n",
    "\n",
    "<hr>"
   ]
  },
  {
   "cell_type": "markdown",
   "metadata": {
    "id": "zS3BzVrsTW5y"
   },
   "source": [
    "### Ans.\n",
    "Fill in answer"
   ]
  },
  {
   "cell_type": "markdown",
   "metadata": {
    "id": "WHW2dS1bTW5y"
   },
   "source": [
    "<hr>\n",
    "\n",
    "**d.** Suppose you have a function *Bernoulli*$(r)$ that simulates the outcomes of a Bernoulli random variable for any success probability $r$, i.e., it will generate a $1$ with probability $r$ and $0$ with probability $1-r$.\n",
    "\n",
    "Explain how you can use this function to generate a realization of $X$ and $Y$ above, for $p=\\tfrac 12$, $q=\\tfrac 23$, and with $\\mathbb{P}( X = 1 \\text{ and } Y= 1 ) = \\tfrac 13$.\n",
    "\n",
    "\n",
    "<hr>"
   ]
  },
  {
   "cell_type": "markdown",
   "metadata": {
    "id": "ZSVjCg70TW5y"
   },
   "source": [
    "### Ans.\n",
    "Fill in answer"
   ]
  },
  {
   "cell_type": "markdown",
   "metadata": {
    "id": "rTopMG7gTW5z"
   },
   "source": [
    "<hr>\n",
    "\n",
    "**e.** Explain how you can use this function to also get a realization of $X$ and $Y$ above if $p=\\tfrac 12$, $q=\\tfrac 12$ (and still, $\\mathbb{P}( X = 1 \\text{ and } Y= 1 ) = \\tfrac 13$).\n",
    "\n",
    "<hr>"
   ]
  },
  {
   "cell_type": "markdown",
   "metadata": {
    "id": "Zga6LsmbTW5z"
   },
   "source": [
    "### Ans.\n",
    "Fill in answer"
   ]
  },
  {
   "cell_type": "markdown",
   "metadata": {
    "id": "08QdZiThTtMQ"
   },
   "source": [
    "\n",
    "\n",
    "<hr><hr>"
   ]
  },
  {
   "cell_type": "markdown",
   "metadata": {
    "id": "j-H2dXrUTW5z"
   },
   "source": [
    "## Q3:\n",
    "In Chapter $1$ example $1.4$, Grinstead and Snell talk about measuring two natural quantities associated with the so-called *simple random walk* $S_0 = 0, S_t = S_{t-1}+ X_t$, where $X_t = \\pm 1$ with probability $\\frac{1}{2}$ (they describe this as a simple betting game between Peter and Paul, where at each time $t$ they toss a fair coin, and if it comes up heads, then Peter wins a penny from Paul, else Paul wins a penny from Peter). We will now replicate their experiments."
   ]
  },
  {
   "cell_type": "markdown",
   "metadata": {
    "id": "2suVWr0YTW5z"
   },
   "source": [
    "**a.** Generate $n = 1000$ copies of a simple random walk $S^i = (S^i_0,S^i_1,\\ldots,S^i_{T})$ (with $T=100$ and $i\\in\\{1,2,\\ldots,n\\}$). For each walk, compute $Z^i_T = \\frac{S^i_T}{T}$ (i.e., the per-round winnings of Paul after $100$ games), as well as $W^i_T = \\frac{1}{T}\\sum_{t=1}^{T}\\mathbb{1}_{\\{S^i_t>0\\}}$ (i.e., the fraction of rounds in $[1,T]$ where Paul is in the lead). Plot a histogram of both these quantities (using `plt.hist(data, density=True,bins='auto')`).\n",
    "\n",
    "\n",
    "<hr>"
   ]
  },
  {
   "cell_type": "markdown",
   "metadata": {
    "id": "_s8TP93gTW5z"
   },
   "source": [
    "### Ans.\n",
    "Fill in answer"
   ]
  },
  {
   "cell_type": "markdown",
   "metadata": {
    "id": "EFw0sBYATW5z"
   },
   "source": [
    "**b.** Repeat for $T=1000$ and $T=10000$."
   ]
  },
  {
   "cell_type": "markdown",
   "metadata": {
    "id": "CflO1T5fTW5z"
   },
   "source": [
    "### Ans."
   ]
  },
  {
   "cell_type": "code",
   "execution_count": null,
   "metadata": {
    "id": "Lpl1xJlMTW5z"
   },
   "outputs": [],
   "source": []
  },
  {
   "cell_type": "markdown",
   "metadata": {
    "id": "gZQvVRU-TW5z"
   },
   "source": [
    "**c.** How do you think the distributions for $Z_T$ and $W_T$ behave as $T→\\infty$? Can you give some intuition why this is the case?"
   ]
  },
  {
   "cell_type": "markdown",
   "metadata": {
    "id": "HlYyn4nBTW5z"
   },
   "source": [
    "### Ans."
   ]
  },
  {
   "cell_type": "markdown",
   "metadata": {
    "id": "wwlp2-O0TW50"
   },
   "source": [
    "<hr><hr>\n",
    "\n",
    "## Q4:\n",
    "As we discuss in class, one major application of simulation is to estimate difficult integrals. In this question, we will perform a simple simulation to estimate the area of a unit circle."
   ]
  },
  {
   "cell_type": "markdown",
   "metadata": {
    "id": "vXXa5TC2TW50"
   },
   "source": [
    "**a.** Generate $10,000$ points uniformly distributed in $[-1,1]$ and plot a histogram of these points using $50$ uniform-sized bins.\n",
    "\n",
    "*Hint: See the histogram function in matplotlib; in particular, if your data is stored in an array $X$, then you can use* `<plt.hist(X,bins = 50,density = True)>`\n",
    "\n",
    "\n",
    "<hr>"
   ]
  },
  {
   "cell_type": "markdown",
   "metadata": {
    "id": "l1XcRbEZTW50"
   },
   "source": [
    "### Ans.\n",
    "See plot below."
   ]
  },
  {
   "cell_type": "code",
   "execution_count": null,
   "metadata": {
    "id": "oiBUteBVTW50"
   },
   "outputs": [],
   "source": []
  },
  {
   "cell_type": "markdown",
   "metadata": {
    "id": "eBLHkRcPTW50"
   },
   "source": [
    "<hr>\n",
    "\n",
    "**b.** Generate $10,000$ points that are uniformly distributed in a square around the origin with corners $(-1,-1),(-1,1),(1,-1)$ and $(1,1)$. To do this, independently generate the $x$- and $y$-coordinates of a point to be uniformly distributed in $(-1,1)$. Create an additional array $Z$ of length $10,000$, which indicates whether each random point lies within a circle of radius $1$ centered at the origin. Plot these points using a scatter plot with different colors for points within the circle and points outside.\n",
    "\n",
    "*Hint: If you store your coordinate vectors as $X$ and $Y$ and the vector of indicators as $Z$, then use* <plt.scatter(X,Y, c = Z, s = 2.0, cmap=plt.cm.Paired)>\n",
    "\n",
    "\n",
    "<hr>"
   ]
  },
  {
   "cell_type": "markdown",
   "metadata": {
    "id": "Dgx8q3TeTW50"
   },
   "source": [
    "### Ans.\n",
    "See plot below."
   ]
  },
  {
   "cell_type": "code",
   "execution_count": null,
   "metadata": {
    "id": "spO1vsKSTW50"
   },
   "outputs": [],
   "source": []
  },
  {
   "cell_type": "markdown",
   "metadata": {
    "id": "bgbLvZJ8TW6B"
   },
   "source": [
    "\n",
    "<hr>\n",
    "\n",
    "\n",
    "**c.** Define $N_{circle}$ to be the (random) number of points which lie within the circle. What is $\\mathbb{E}[N_{circle}]$ and $Var(N_{circle})$ (express your answer in terms of $\\pi$)?\n",
    "\n",
    "Suppose also that you did not know the value of $\\pi$; can you still argue that $Var(N_{circle})\\leq \\frac{n}{4}$?\n",
    "\n",
    "\n",
    "<hr>"
   ]
  },
  {
   "cell_type": "markdown",
   "metadata": {
    "id": "zmQP6LDoIizY"
   },
   "source": [
    "### Ans."
   ]
  },
  {
   "cell_type": "markdown",
   "metadata": {
    "id": "8wGMvPWCGO1W"
   },
   "source": [
    "<hr>\n",
    "\n",
    "**d.** Given $n$ random points generated as in part (b), we can estimate $\\pi$ as $\\pi_n = \\frac{4N_{circle}}{n}$ for $\\pi$ (where as before $N_{circle}$ is the random number of points that lie inside the circle). For $n$ between $1$ and $1000$, plot the relative error $|\\pi_n - \\pi|/\\pi$. Also plot the function $1/\\sqrt{n}$ on the same plot. How do the relative errors compare to this function?\n",
    "\n",
    "\n",
    "<hr>"
   ]
  },
  {
   "cell_type": "markdown",
   "metadata": {
    "id": "ahHXq2lrIf7P"
   },
   "source": [
    "### Ans."
   ]
  },
  {
   "cell_type": "code",
   "execution_count": null,
   "metadata": {
    "id": "637229DDIgNH"
   },
   "outputs": [],
   "source": []
  },
  {
   "cell_type": "markdown",
   "metadata": {
    "id": "2n3nXGxSnwQQ"
   },
   "source": [
    "<hr>\n",
    "e. Recall that a $95\\%$ confidence interval for an estimate is given by $\\pi_n \\pm 1.96\\sqrt{Var(\\pi_n)}$ (the relative error plot in previous question shows why this is the case). Using your upper bound for $Var(\\pi_n)$ from part (c), compute what value of $n$ is required to ensure that the width of the confidence interval is less than $0.001$, and then, simulate using this value $n$ and report an estimate with a $95\\%$ confidence interval for $\\pi$ that is accurate up to the second digit after the decimal point.\n",
    "\n",
    "\n",
    "\n",
    "\n",
    "<hr>\n"
   ]
  },
  {
   "cell_type": "markdown",
   "metadata": {
    "id": "8h31VHm5qkNv"
   },
   "source": [
    "### Ans."
   ]
  },
  {
   "cell_type": "code",
   "execution_count": null,
   "metadata": {
    "id": "-VqKrpAIqkzP"
   },
   "outputs": [],
   "source": []
  },
  {
   "cell_type": "markdown",
   "metadata": {
    "id": "xvs6W-xeTW6B"
   },
   "source": [
    "<hr><hr>\n",
    "\n",
    "\n",
    "\n",
    "**Q5:** (**For 5580/5581 students; OPTIONAL for 4580**)\n",
    "\n",
    "Above we used simulation to compute the area of a unit circle. Using a similar process, we can find the volume of a 'sphere' in $n$ dimensions. Estimate this volume for dimensions $d\\in\\{2,3,\\ldots,20\\}$, using $100,000$ samples in each dimension. How does your estimate of the volume of the sphere behave as the dimension increases? Also, do your estimates seem smooth or noisy (and if the latter, why)?"
   ]
  },
  {
   "cell_type": "markdown",
   "metadata": {
    "id": "cZxWODA4q5Pg"
   },
   "source": [
    "### Ans."
   ]
  },
  {
   "cell_type": "code",
   "execution_count": null,
   "metadata": {
    "id": "ESw6wfflTW6B"
   },
   "outputs": [],
   "source": []
  },
  {
   "cell_type": "markdown",
   "metadata": {
    "id": "4Fz6352gFCp_"
   },
   "source": [
    "\n",
    "\\noindent\\rule{\\linewidth}{0.4pt}\n",
    "\n",
    "\n",
    "\n",
    "\\noindent\\rule{\\linewidth}{0.4pt}"
   ]
  },
  {
   "cell_type": "code",
   "execution_count": null,
   "metadata": {},
   "outputs": [],
   "source": []
  }
 ],
 "metadata": {
  "colab": {
   "provenance": []
  },
  "kernelspec": {
   "display_name": "Python 3 (ipykernel)",
   "language": "python",
   "name": "python3"
  },
  "language_info": {
   "codemirror_mode": {
    "name": "ipython",
    "version": 3
   },
   "file_extension": ".py",
   "mimetype": "text/x-python",
   "name": "python",
   "nbconvert_exporter": "python",
   "pygments_lexer": "ipython3",
   "version": "3.11.3"
  }
 },
 "nbformat": 4,
 "nbformat_minor": 1
}
