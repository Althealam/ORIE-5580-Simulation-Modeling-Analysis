{
 "cells": [
  {
   "cell_type": "markdown",
   "metadata": {
    "colab_type": "text",
    "id": "1WRDtsPYbGdH"
   },
   "source": [
    "# **Recitation 3 -Confidence Intervals and Random Number Generators**"
   ]
  },
  {
   "cell_type": "code",
   "execution_count": 1,
   "metadata": {
    "colab": {},
    "colab_type": "code",
    "id": "Bd2Itp8-AP0S"
   },
   "outputs": [],
   "source": [
    "# Things to import in general:  standard math/stats/plotting packages\n",
    "import numpy as np\n",
    "import scipy as sc\n",
    "import pandas as pd\n",
    "\n",
    "import matplotlib.pyplot as plt\n",
    "%matplotlib inline\n",
    "\n",
    "import seaborn as sns\n",
    "sns.set_style(\"white\")\n",
    "sns.set_context(\"talk\",font_scale=1.5, rc={\"lines.linewidth\": 2.5})\n",
    "\n",
    "import math #to use math.sqrt, math.pi"
   ]
  },
  {
   "cell_type": "markdown",
   "metadata": {
    "colab_type": "text",
    "id": "4UC5yefxCIS5"
   },
   "source": [
    "# Different Types of Random Variable Generation\n",
    "\n",
    "## Discrete\n",
    "\n",
    "*   Binomial\n",
    "*   Poisson:  \"Probability of given number of events in a fixed interval of time (Wikipedia)\" https://en.wikipedia.org/wiki/Poisson_distribution\n",
    "\n",
    "\n",
    "## Continuous#\n",
    "\n",
    "*   Exponential: \"Describes the time between events..[when] events occur continuously and independently at a constant average rate (Wikipedia)\"  https://en.wikipedia.org/wiki/Exponential_distribution\n",
    "*   Log-normal:  \"a random variable whose logarithm is normally distributed (Wikipedia)\"  https://en.wikipedia.org/wiki/Log-normal_distribution\n",
    "*   Triangular:  \"based on a knowledge of the minimum and maximum and [a guess] as to the modal value...called a \"lack of knowledge\" distribution (Wikipedia)\"  https://en.wikipedia.org/wiki/Triangular_distribution\n",
    "\n",
    "Visit https://docs.scipy.org/doc/scipy/reference/stats.html#module-scipy.stats for more options.\n",
    "\n",
    "\n"
   ]
  },
  {
   "cell_type": "markdown",
   "metadata": {
    "colab_type": "text",
    "id": "hu3_zppgObm_"
   },
   "source": [
    "### Poisson:\n",
    "pmf $f(k) = \\frac{\\mu^k e^{-\\mu}}{k!}$, mean $\\mu$, variance $\\mu$."
   ]
  },
  {
   "cell_type": "code",
   "execution_count": 2,
   "metadata": {
    "colab": {},
    "colab_type": "code",
    "id": "xa1FGlZCCfDH"
   },
   "outputs": [
    {
     "data": {
      "text/plain": [
       "(array([119., 299., 275., 164.,  82.,  46.,  12.,   1.,   2.]),\n",
       " array([0, 1, 2, 3, 4, 5, 6, 7, 8, 9]),\n",
       " <BarContainer object of 9 artists>)"
      ]
     },
     "execution_count": 2,
     "metadata": {},
     "output_type": "execute_result"
    },
    {
     "data": {
      "image/png": "[encoded data removed]",
      "text/plain": [
       "<Figure size 432x288 with 1 Axes>"
      ]
     },
     "metadata": {},
     "output_type": "display_data"
    }
   ],
   "source": [
    "#poisson.rvs(mu, loc, size) - can set loc=0\n",
    "#https://docs.scipy.org/doc/scipy/reference/generated/scipy.stats.poisson.html#scipy.stats.poisson\n",
    "mu = 2\n",
    "X = sc.stats.poisson.rvs(mu = mu, size = 1000)\n",
    "plt.hist(X, bins = np.arange(10))"
   ]
  },
  {
   "cell_type": "markdown",
   "metadata": {
    "colab_type": "text",
    "id": "fKLi8Y3aS7zA"
   },
   "source": [
    "### Exponential:\n",
    "\n",
    "pdf $f(x) = \\frac{1}{\\mu} e^{-x/\\mu}$, mean $\\mu$, variance $\\mu^2$."
   ]
  },
  {
   "cell_type": "code",
   "execution_count": 11,
   "metadata": {
    "colab": {},
    "colab_type": "code",
    "id": "tJ0fZHysMwfa"
   },
   "outputs": [
    {
     "data": {
      "text/plain": [
       "(array([0.07185613, 0.02928427, 0.01393261, 0.00748233, 0.00361216,\n",
       "        0.00167707, 0.00051602, 0.00025801, 0.00025801, 0.00012901]),\n",
       " array([1.72065250e-02, 7.76880736e+00, 1.55204082e+01, 2.32720090e+01,\n",
       "        3.10236099e+01, 3.87752107e+01, 4.65268116e+01, 5.42784124e+01,\n",
       "        6.20300132e+01, 6.97816141e+01, 7.75332149e+01]),\n",
       " <a list of 10 Patch objects>)"
      ]
     },
     "execution_count": 11,
     "metadata": {},
     "output_type": "execute_result"
    },
    {
     "data": {
      "image/png": "[encoded data removed]",
      "text/plain": [
       "<Figure size 640x480 with 1 Axes>"
      ]
     },
     "metadata": {},
     "output_type": "display_data"
    }
   ],
   "source": [
    "#expon.rvs(loc, scale, size) - can set loc = 0; scale is basically mu\n",
    "#https://docs.scipy.org/doc/scipy/reference/generated/scipy.stats.expon.html#scipy.stats.expon\n",
    "mu = 10\n",
    "X = sc.stats.expon.rvs(scale = mu, size = 1000)\n",
    "plt.hist(X, density=True) "
   ]
  },
  {
   "cell_type": "markdown",
   "metadata": {
    "colab_type": "text",
    "id": "3wPvtXb2UJPl"
   },
   "source": [
    "### Log-normal\n",
    "\n",
    "$X$ is said to be log-normally distributed with mean $e^{\\mu + \\frac{\\sigma^2}{2}}$ and variance $\\left(e^{\\sigma^2}-1 \\right)e^{2\\mu + \\sigma^2} $,  if $\\ln X$ is normally distributed with mean $\\mu$ and variance $\\sigma^2$.\n",
    "\n",
    "The pdf of $X$ is given by $f(x) = \\frac{1}{x \\sigma \\sqrt{2 \\pi}} e^{-\\frac{(ln \\; x - \\mu)^2}{2 \\sigma^2}}$.\n",
    "\n",
    "Alternatively, given the mean $m$ and variance $v$ of a log-normal distribution, we can compute $\\mu$ and $\\sigma$, parameters of the corresponding normal distribution as:\n",
    "\\begin{align*}\n",
    "\\mu &= \\ln \\left( \\frac{m}{\\sqrt{1+\\frac{v}{m^2}}} \\right), \\\\\n",
    "\\sigma^2 & = \\ln \\left( 1+ \\frac{v}{m^2} \\right).\n",
    "\\end{align*}"
   ]
  },
  {
   "cell_type": "code",
   "execution_count": 16,
   "metadata": {
    "colab": {
     "base_uri": "https://localhost:8080/",
     "height": 378
    },
    "colab_type": "code",
    "id": "9kYsNsHdVHps",
    "outputId": "ea95c559-ce71-4adb-c42f-e655c0b4db23"
   },
   "outputs": [
    {
     "data": {
      "text/plain": [
       "(array([0.27578549, 0.03172475, 0.00282696, 0.00188464, 0.00031411,\n",
       "        0.00094232, 0.00031411, 0.        , 0.        , 0.00031411]),\n",
       " array([ 0.05646694,  3.24010073,  6.42373452,  9.60736832, 12.79100211,\n",
       "        15.9746359 , 19.15826969, 22.34190348, 25.52553727, 28.70917107,\n",
       "        31.89280486]),\n",
       " <a list of 10 Patch objects>)"
      ]
     },
     "execution_count": 16,
     "metadata": {},
     "output_type": "execute_result"
    },
    {
     "data": {
      "image/png": "[encoded data removed]",
      "text/plain": [
       "<Figure size 640x480 with 1 Axes>"
      ]
     },
     "metadata": {},
     "output_type": "display_data"
    }
   ],
   "source": [
    "#lognorm.rvs(s, loc, scale, size) - can set loc =0; s is \\sigma, scale is e^\\mu\n",
    "#https://docs.scipy.org/doc/scipy/reference/generated/scipy.stats.lognorm.html#scipy.stats.lognorm\n",
    "mu = 0\n",
    "sigma = 1\n",
    "X = sc.stats.lognorm.rvs(s = sigma, loc = 0, scale = np.exp(mu), size = 1000)\n",
    "plt.hist(X, density=True)\n",
    "#plt.hist(np.log(X), normed=True)\n"
   ]
  },
  {
   "cell_type": "code",
   "execution_count": 18,
   "metadata": {},
   "outputs": [
    {
     "name": "stdout",
     "output_type": "stream",
     "text": [
      "-0.03665479880680145\n",
      "0.9563150022444261\n"
     ]
    }
   ],
   "source": [
    "print(np.mean(np.log(X)))\n",
    "print(np.var(np.log(X)))\n"
   ]
  },
  {
   "cell_type": "markdown",
   "metadata": {
    "colab_type": "text",
    "id": "DCqwuFdVXHmu"
   },
   "source": [
    "### Triangular\n",
    "\n",
    "pdf \n",
    "\\begin{align*}\n",
    "f(x) = \\cases{\n",
    "0 &: $x<\\alpha$ \\\\\n",
    "\\frac{2(x-\\alpha)}{(\\beta-\\alpha)(\\gamma-\\alpha)} &:$ \\alpha \\leq x \\leq \\gamma$ \\\\\n",
    "\\frac{2}{\\beta-\\alpha} &: $x= \\gamma $\\\\\n",
    "\\frac{2(\\beta-x)}{(\\beta-\\alpha)(\\beta-\\gamma)} &:$ \\gamma \\leq x \\leq \\beta $\\\\\n",
    "0 &: $x \\geq \\beta$\n",
    "}\n",
    "\\end{align*}\n",
    "where $\\alpha, \\beta$ are the minimum and maximum of the support and $\\gamma$ is the mode.  \n",
    "\n",
    "\n"
   ]
  },
  {
   "cell_type": "code",
   "execution_count": 5,
   "metadata": {
    "colab": {
     "base_uri": "https://localhost:8080/",
     "height": 378
    },
    "colab_type": "code",
    "id": "vCFQLgw6Yrvi",
    "outputId": "e4c9e9a8-0de1-405c-b904-78b8a06cff39"
   },
   "outputs": [
    {
     "data": {
      "text/plain": [
       "(array([0.06673532, 0.14373761, 0.2566743 , 0.33538775, 0.23956268,\n",
       "        0.23956268, 0.19165014, 0.11807018, 0.08384694, 0.0359344 ]),\n",
       " array([1.0795596 , 1.66395781, 2.24835602, 2.83275423, 3.41715244,\n",
       "        4.00155064, 4.58594885, 5.17034706, 5.75474527, 6.33914348,\n",
       "        6.92354169]),\n",
       " <a list of 10 Patch objects>)"
      ]
     },
     "execution_count": 5,
     "metadata": {},
     "output_type": "execute_result"
    },
    {
     "data": {
      "image/png": "[encoded data removed]",
      "text/plain": [
       "<Figure size 432x288 with 1 Axes>"
      ]
     },
     "metadata": {},
     "output_type": "display_data"
    }
   ],
   "source": [
    "#triang.rvs(c, loc, scale, size)\n",
    "#The pdf slopes up from loc to loc+c, then down from loc+c to loc+scale.\n",
    "#So given \\alpha, \\beta, and \\gamma, we have loc = \\alpha, loc+scale = \\beta, and loc+c*scale = \\gamma\n",
    "#https://docs.scipy.org/doc/scipy/reference/generated/scipy.stats.triang.html#scipy.stats.triang\n",
    "alpha=1\n",
    "beta=7\n",
    "gamma=3\n",
    "#solving above equations\n",
    "loc = alpha\n",
    "scale = beta-loc\n",
    "c = (gamma-loc)/(beta-loc)\n",
    "X = sc.stats.triang.rvs(c, loc, scale, size=1000)\n",
    "plt.hist(X, density=True)"
   ]
  },
  {
   "cell_type": "markdown",
   "metadata": {
    "colab_type": "text",
    "id": "YE2xIWC5bS2h"
   },
   "source": [
    "# Question 1\n",
    "\n",
    "Nuts & Bolts Co. makes two types of assembly parts. The diameter of a nut it manufactures ($D_{nut}$) follows a lognormal distribution with mean 6.5mm and standard deviation 1mm. The diameter of a bolt ($D_{bolt}$) follows a triangular distribution with min, max, and most likely values 3, 6, and 5mm, respectively.\n",
    "\n",
    "\n",
    "## Part a\n",
    "\n",
    "Use 2,500 replications to estimate the clearance between nut and bolt: $\\mathbb{E}[D_{nut}-D_{bolt}]$.  Found a 99% confidence interval for the the estimated clearance.\n",
    "\n",
    "\n",
    "\n"
   ]
  },
  {
   "cell_type": "code",
   "execution_count": 4,
   "metadata": {
    "colab": {
     "base_uri": "https://localhost:8080/",
     "height": 68
    },
    "colab_type": "code",
    "id": "Q8n4Pd3BbfQQ",
    "outputId": "4bb82f26-21d3-42f5-debf-86346fc07ade"
   },
   "outputs": [
    {
     "name": "stdout",
     "output_type": "stream",
     "text": [
      "Mean clearance: 1.851020043053465, with 99% CI:  (1.7912753728045283, 1.9107647133024015)\n",
      "Nut-mean:  6.5157324797540666\n",
      "Bolt-mean:  4.6647124367006025\n"
     ]
    },
    {
     "data": {
      "text/plain": [
       "(6.5157324797540666, 6.4244160347290125, 0.15294730979884993)"
      ]
     },
     "execution_count": 4,
     "metadata": {},
     "output_type": "execute_result"
    }
   ],
   "source": [
    "n = 2500\n",
    "\n",
    "\n",
    "#Nuts: lognorm.rvs(s, loc, scale, size) - can set loc =0; s is \\sigma, scale is e^\\mu\n",
    "#Given mean and variance, use formula above (from Wikipedia) to figure out mu, sigma\n",
    "m = 6.5\n",
    "v = 1.0\n",
    "e_mu = m/np.sqrt(1+(v/m**2))\n",
    "s = np.sqrt(np.log(1 + v/m**2))\n",
    "D_nut = sc.stats.lognorm.rvs(s, 0, scale = e_mu, size = n)\n",
    "\n",
    "\n",
    "#Bolts:  triang.rvs(c_bar, loc, scale, size)\n",
    "#loc = a, loc+scale = b, and loc+c_bar*scale = c \n",
    "alpha=3\n",
    "beta=6\n",
    "gamma=5\n",
    "loc = alpha\n",
    "scale = beta-loc\n",
    "c = (gamma-loc)/(beta-loc)\n",
    "D_bolt = sc.stats.triang.rvs(c, loc, scale, n)\n",
    "\n",
    "\n",
    "clearance = D_nut - D_bolt\n",
    "\n",
    "\n",
    "#CI for the estimated clearance\n",
    "meanClear = np.mean(clearance)\n",
    "var = np.var(clearance, ddof=1) \n",
    "z = sc.stats.norm.ppf(0.995)\n",
    "LB = meanClear - z*np.sqrt(var/n)\n",
    "UB = meanClear + z*np.sqrt(var/n)\n",
    "\n",
    "print(\"Mean clearance: {}, with 99% CI:  {}\".format(meanClear, (LB, UB)))\n",
    "print(\"Nut-mean:  {}\".format(np.mean(D_nut)))\n",
    "print(\"Bolt-mean:  {}\".format(np.mean(D_bolt)))\n",
    "np.mean(D_nut), e_mu, s"
   ]
  },
  {
   "cell_type": "markdown",
   "metadata": {
    "colab_type": "text",
    "id": "fCKAdGV9ba_I"
   },
   "source": [
    "## Part b\n",
    "\n",
    "Use the resulting histogram to estimate the value $d$ such that \n",
    "$\\mathbb{P}(0<D_{nut}-D_{bolt}\\leq d)=0.90$."
   ]
  },
  {
   "cell_type": "code",
   "execution_count": 7,
   "metadata": {
    "colab": {
     "base_uri": "https://localhost:8080/",
     "height": 283
    },
    "colab_type": "code",
    "id": "HXNGc6jTbfy4",
    "outputId": "31ee9f4a-1a6f-496e-9c7d-27386eb228c2"
   },
   "outputs": [
    {
     "data": {
      "image/png": "[encoded data removed]",
      "text/plain": [
       "<Figure size 432x288 with 1 Axes>"
      ]
     },
     "metadata": {},
     "output_type": "display_data"
    }
   ],
   "source": [
    "plt.hist(clearance, 25, density=True);"
   ]
  },
  {
   "cell_type": "code",
   "execution_count": 8,
   "metadata": {
    "colab": {
     "base_uri": "https://localhost:8080/",
     "height": 51
    },
    "colab_type": "code",
    "id": "Q8AYnM6egGBL",
    "outputId": "ac083496-87fe-411c-8ae8-d88db59c8879"
   },
   "outputs": [
    {
     "name": "stdout",
     "output_type": "stream",
     "text": [
      "d = 3.8442642640104188\n",
      "acceptable:  0.9\n"
     ]
    }
   ],
   "source": [
    "# Find d\n",
    "sorted_clearance = np.sort(clearance)\n",
    "\n",
    "#Identify the smallest index where sorted_clearance is >0\n",
    "index_lower = min(np.where(sorted_clearance > 0)[0])\n",
    "\n",
    "#We want to capture 90% of the data, so that index_upper - index_lower + 1 = ceil(0.9n)\n",
    "index_upper = math.ceil(n*0.90) + index_lower -1\n",
    "index_upper = int(index_upper) #parse back to integer\n",
    "d = sorted_clearance[index_upper]\n",
    "print(\"d = {}\".format(d))\n",
    "  \n",
    "#Let's check we did this right.  Use indicator variables to identify the bolts that are within range\n",
    "accept = (clearance >0) & (clearance <=d)\n",
    "print(\"acceptable:  {}\".format(np.sum(accept)/n))\n",
    "\n"
   ]
  },
  {
   "cell_type": "markdown",
   "metadata": {
    "colab_type": "text",
    "id": "iuICAsJM1hbI"
   },
   "source": [
    "\n",
    "\n",
    "---\n",
    "\n"
   ]
  },
  {
   "cell_type": "markdown",
   "metadata": {
    "colab_type": "text",
    "id": "iIhSnXxid7PN"
   },
   "source": [
    "# Question 2\n",
    "\n",
    "Suppose  you  are  asked  to  determine  the  registration  fee  for  an  academic  conference.  The number  of  people  who  will  register  for  this  conference  follows  a  Poisson  distribution  with  rate parameter  $\\lambda = 250$  (as  long  as  the  registration  fee  is  less  than  600).  \n",
    "\n",
    "The  cost  of  running the  conference can  be  divided  into  two  parts:  fixed  cost  and  variable  cost.  The  fixed  cost  includes  room rental  ($\\$6000$),  speaker  honorarium  ($\\$5000$),  meeting  management  ($\\$5000$)  and  marketing ($\\$7000$).  The  variable  cost  includes  registration  cost  (printing,  name  tag  etc,  which  is  $\\$80$ per  person)  as  well  as  food  and  beverage  cost  (which  is  normally  distributed  with  mean $\\$100$ per  person  and  variance  100).  Assume  that  a  single  food  and  beverage  cost  is  applied  to all  attendees.  What  is  the  minimum  registration  fee  such  that  the  probability  of  making  a profit  is  at  least  95%?"
   ]
  },
  {
   "cell_type": "code",
   "execution_count": 9,
   "metadata": {
    "colab": {},
    "colab_type": "code",
    "id": "yAG6S2Tgf8mv"
   },
   "outputs": [],
   "source": [
    "fixed_costs = 6000 + 5000 + 5000 + 7000\n",
    "nr = 1000 # number of replications (repeated nr times for each possible registration fee)\n",
    "\n",
    "# For every registration price, generate 1000 replications of the number of attendees and the food costs\n",
    "prob_pos_profit = np.empty(600)\n",
    "for j in range(600):\n",
    "    register_fee = j\n",
    "    X = sc.stats.poisson.rvs(250,size=nr)\n",
    "    #if (j==0): print(X)\n",
    "    variable_costs = 80*X + sc.stats.norm.rvs(loc= 100, scale = 10, size=nr)*X  # In Python, vector*vector is componentwise!\n",
    "    #if (j == 0): print(X*sc.stats.norm.rvs(loc= 100, scale = 10, size=nr))\n",
    "    profit = X*register_fee - variable_costs - fixed_costs\n",
    "    \n",
    "    prob_pos_profit[j] = np.mean(profit > 0)"
   ]
  },
  {
   "cell_type": "code",
   "execution_count": 10,
   "metadata": {
    "colab": {
     "base_uri": "https://localhost:8080/",
     "height": 489
    },
    "colab_type": "code",
    "id": "LPZ_PpInhDyF",
    "outputId": "2371472f-cd6d-48e8-ec2c-93646c17af62"
   },
   "outputs": [
    {
     "data": {
      "text/plain": [
       "Text(0,0.5,'Probability of Profit')"
      ]
     },
     "execution_count": 10,
     "metadata": {},
     "output_type": "execute_result"
    },
    {
     "data": {
      "image/png": "[encoded data removed]",
      "text/plain": [
       "<Figure size 432x288 with 1 Axes>"
      ]
     },
     "metadata": {},
     "output_type": "display_data"
    }
   ],
   "source": [
    "plt.plot(range(600),prob_pos_profit);\n",
    "plt.xlabel(\"Registration Fee ($)\")\n",
    "plt.ylabel(\"Probability of Profit\")"
   ]
  },
  {
   "cell_type": "code",
   "execution_count": 11,
   "metadata": {
    "colab": {
     "base_uri": "https://localhost:8080/",
     "height": 35
    },
    "colab_type": "code",
    "id": "d1hAcw_WhEVZ",
    "outputId": "a784cced-6545-472a-da13-22c59aee8333"
   },
   "outputs": [
    {
     "name": "stdout",
     "output_type": "stream",
     "text": [
      "Min Fee: $293\n"
     ]
    }
   ],
   "source": [
    "# Find the first index where prob_pos_profit > 95%\n",
    "print(\"Min Fee: ${}\".format(np.min(np.where(prob_pos_profit>.95)[0])))\n"
   ]
  },
  {
   "cell_type": "markdown",
   "metadata": {
    "colab_type": "text",
    "id": "pNfvOAjF5r97"
   },
   "source": [
    "\n",
    "\n",
    "---\n",
    "\n"
   ]
  },
  {
   "cell_type": "markdown",
   "metadata": {
    "colab_type": "text",
    "id": "TUXAYsIDic6r"
   },
   "source": [
    "# Question 3\n",
    "First: Review of LCG\n",
    "\n",
    "Given the LCG $X_{n+1}=  (a X_n+c)  \\mod m$,  with $m=  1000,a=  31,c=  3$, we want to generate  samples  of (pseudo-)random  numbers:"
   ]
  },
  {
   "cell_type": "markdown",
   "metadata": {
    "colab_type": "text",
    "id": "LU7zi0yRiqyO"
   },
   "source": [
    "### Part a ###\n",
    "Generate  512  uniform  random  numbers  (U1,  .  .  .  ,  U512)  with  this  LCG,  starting  with  the seed $x_0=  0$.  Plot  the  points  (U1,  U2),(U3,  U4),  .  .  .  ,(U511,  U512)"
   ]
  },
  {
   "cell_type": "code",
   "execution_count": 12,
   "metadata": {
    "colab": {
     "base_uri": "https://localhost:8080/",
     "height": 449
    },
    "colab_type": "code",
    "id": "wstN-xHWjc0E",
    "outputId": "13eb6b35-8198-41c4-b19b-788a89f2517b"
   },
   "outputs": [
    {
     "data": {
      "image/png": "[encoded data removed]",
      "text/plain": [
       "<Figure size 432x288 with 1 Axes>"
      ]
     },
     "metadata": {},
     "output_type": "display_data"
    }
   ],
   "source": [
    "a = 31\n",
    "c = 3\n",
    "m = 1000\n",
    "\n",
    "n = 512\n",
    "X = np.empty(n)\n",
    "X[0] = 0\n",
    "for i in range(1,n):\n",
    "    X[i] = np.mod(a*X[i-1]+c,m)\n",
    "    \n",
    "U = (X+1.0)/(m+1)  # Use the convention U_1 = (X_0+1)/(m+1), etc.\n",
    "\n",
    "plt.scatter(U[0:n-1:2], U[1:n:2]);\n",
    "\n"
   ]
  },
  {
   "cell_type": "markdown",
   "metadata": {
    "colab_type": "text",
    "id": "OD2-NqWii3GH"
   },
   "source": [
    "### Part b ###\n",
    "Suppose  that  we  wish  to  estimate  the  probability  that  $U \\sim Unif(0,1)$ takes value greater than 0.7.  The  true  probability  is $0.3$, but what happens if we estimate this probability by generating our pseudo-random variables via our LCG?   \n",
    "\n",
    "Use  this  LCG  to  generate  a sequence  of  pseudo-random numbers on $Unif(0,  1)$ starting  with  the seed $x_0=  0$.  If you ran this non-full period LCG for a very long time, what is the limit of the estimate of $\\mathbb{P}[U > 0.7]$,  obtained  from  the  $n$ pseudo-random numbers as $n\\rightarrow \\infty$? "
   ]
  },
  {
   "cell_type": "code",
   "execution_count": 13,
   "metadata": {
    "colab": {
     "base_uri": "https://localhost:8080/",
     "height": 35
    },
    "colab_type": "code",
    "id": "jtmsnB8TjZ1R",
    "outputId": "062b3584-0daa-4cb6-93d8-5047ce3ccedc"
   },
   "outputs": [
    {
     "name": "stdout",
     "output_type": "stream",
     "text": [
      "[  0 250 500]\n"
     ]
    }
   ],
   "source": [
    "# First find the period of the LCG with these parameters\n",
    "print(np.where(X==0)[0])"
   ]
  },
  {
   "cell_type": "markdown",
   "metadata": {
    "colab_type": "text",
    "id": "FkHRl43oj2ER"
   },
   "source": [
    "Find when the LCG loops back to the seed.  The period is 250, so rather than consider $n \\to \\infty$, we can just consider the first 250 pseudo-random numbers."
   ]
  },
  {
   "cell_type": "code",
   "execution_count": 14,
   "metadata": {
    "colab": {
     "base_uri": "https://localhost:8080/",
     "height": 52
    },
    "colab_type": "code",
    "id": "sNRNo74Cj0M8",
    "outputId": "b94fdb55-c411-449d-9e26-c4870237d791"
   },
   "outputs": [
    {
     "name": "stdout",
     "output_type": "stream",
     "text": [
      "74\n",
      "0.296\n"
     ]
    }
   ],
   "source": [
    "# Count how many are > 0.7\n",
    "U = U[0:250]\n",
    "count_7 = sum(U>.7)\n",
    "print(count_7)\n",
    "print(count_7/250)\n"
   ]
  },
  {
   "cell_type": "markdown",
   "metadata": {
    "colab_type": "text",
    "id": "nIQ713DGj3uF"
   },
   "source": [
    "74 of the numbers in the period of 250 will count towards the probability estimate (those satifsying $U > 0.7$). Therefore $74/250 = 0.296$ is the limiting probability estimate."
   ]
  },
  {
   "cell_type": "markdown",
   "metadata": {
    "colab_type": "text",
    "id": "cvmJVoGECrxT"
   },
   "source": [
    "\n",
    "\n",
    "---\n",
    "\n"
   ]
  },
  {
   "cell_type": "markdown",
   "metadata": {
    "colab_type": "text",
    "id": "wuH7ZHEreDZy"
   },
   "source": [
    "# Question 4\n"
   ]
  },
  {
   "cell_type": "markdown",
   "metadata": {
    "colab_type": "text",
    "id": "qHw6EBoVkZAn"
   },
   "source": [
    "As we discussed in class, in order to avoid biases, simulations should not use anywhere near the full period of an LCG. This creates a problem for some large simulations, which need a lot of random variables. For example, a common LCG implementation uses $m = 2^{31} − 1$, which is insufficient for traffic simulators with tens of thousands of vehicles, thousands of random disturbances and lots of replications. We will now see a method to combine multiple LCGs to obtain a generator with a longer\n",
    "period. The main idea for increasing the period of an LCG is to add a smaller period LCG to it. For example, suppose we have two MGs, $X_{n+1} = (a_1 X_n ) \\text{ mod } m_1$ and $Y_{n+1} = (a_2 Y_n ) \\text{ mod } m_2$ , with $m_1 > m_2$. We can derive a combined generator by setting $Z_n = (X_n + Y_n ) \\text{ mod } m_1$ . If properly designed, the resulting period can be on the order of $m_1 m_2$. We will now see a small example to see how this works."
   ]
  },
  {
   "cell_type": "markdown",
   "metadata": {
    "colab_type": "text",
    "id": "k4xum3K_7G8Z"
   },
   "source": [
    "#### Part a\n",
    "\n",
    "Consider two LCGs, $x_{n+1} = (5x_n ) \\text{ mod } 16$ and $y_{n+1} = (2x_n ) \\text{ mod } 7$. Starting both with seed $x_0 = y_0 = 1$, plot the sequences $x_n ,y_n$ using the clock visualization introduced in class (one separate plot for each sequence). You can use the code in ${\\tt clockpath.ipynb}$ (feel free to modify it if required) or write your own visualization.\n",
    "\n",
    "What is the period of each sequence?\n"
   ]
  },
  {
   "cell_type": "code",
   "execution_count": 1,
   "metadata": {
    "colab": {},
    "colab_type": "code",
    "id": "dejqEyGW7M2H"
   },
   "outputs": [],
   "source": [
    "# Functions to visualize LCG sequence on clock\n",
    "def plot_clock_face(m,fig,annotate = False):\n",
    "    # Plot the m points on the unit circle\n",
    "    for i in range(m):\n",
    "        theta = 2.0*np.pi*i/m\n",
    "        plt.plot(np.sin(theta),np.cos(theta),'rs')\n",
    "        if annotate:\n",
    "            plt.annotate(str(i), (np.pi/2-theta,1.05),xycoords='polar')\n",
    "\n",
    "\n",
    "def plot_clock_path(m,u,fig,color = 'b'):\n",
    "    # Plot the seed node\n",
    "    theta_0 = 2.0*np.pi*(u[0]*(m+1)-1)/m\n",
    "    plt.plot(np.sin(theta_0),np.cos(theta_0),'gs')\n",
    "    \n",
    "    # Plot the path of the LCG sequence\n",
    "    for i in range(len(u)-1):\n",
    "        theta_start = 2.0*np.pi*(u[i]*(m+1)-1)/m\n",
    "        theta_end = 2.0*np.pi*(u[i+1]*(m+1)-1)/m\n",
    "        x_start = np.sin(theta_start)\n",
    "        y_start = np.cos(theta_start)\n",
    "        del_x = np.sin(theta_end) - np.sin(theta_start)\n",
    "        del_y = np.cos(theta_end) - np.cos(theta_start)\n",
    "        if abs(del_x)>0 or abs(del_y)>0:\n",
    "            plt.arrow(x_start,y_start,del_x,del_y, \n",
    "                      length_includes_head = True, head_width=0.05, head_length=0.1, fc=color, ec=color)"
   ]
  },
  {
   "cell_type": "code",
   "execution_count": 2,
   "metadata": {
    "colab": {},
    "colab_type": "code",
    "id": "kkhwXbT77aRR"
   },
   "outputs": [],
   "source": [
    "# Function to generate pseudorandom sequence using LCG\n",
    "# Setting default parameters to glibc specifications (without truncation)\n",
    "\n",
    "def LCG(n,m = 2**31-1,a = 1103515245,c = 12345,x_0 = 1):\n",
    "    u = np.zeros(n)\n",
    "    x_n = np.zeros(n)\n",
    "    \n",
    "    x = x_0\n",
    "    # x_n+1 = (ax_n+c) mod m\n",
    "    for i in range(n):\n",
    "        x_n[i] = x\n",
    "        u[i] = (x+1.0)/(m+1.0) # normalize to be in [0,m/m+1]\n",
    "        x = (a*x+c)%m\n",
    "\n",
    "    return u, x_n"
   ]
  },
  {
   "cell_type": "code",
   "execution_count": 5,
   "metadata": {
    "colab": {
     "base_uri": "https://localhost:8080/",
     "height": 331
    },
    "colab_type": "code",
    "id": "SvLkkc7A8Ate",
    "outputId": "81a8ad73-c249-4d58-e396-1e2f9d087c3d"
   },
   "outputs": [
    {
     "data": {
      "image/png": "[encoded data removed]",
      "text/plain": [
       "<Figure size 1500x1500 with 2 Axes>"
      ]
     },
     "metadata": {},
     "output_type": "display_data"
    }
   ],
   "source": [
    "import matplotlib.gridspec as gridspec\n",
    "\n",
    "x_0 = 1\n",
    "\n",
    "fig = plt.figure()\n",
    "fig.set_size_inches(w=15,h=15)\n",
    "\n",
    "gridspec.GridSpec(6,6)\n",
    "fig = plt.subplot2grid((6,6), (0,0), colspan=2, rowspan=2)\n",
    "m_1 = 16\n",
    "a_1 = 5\n",
    "c_1 = 0\n",
    "u, x = LCG(n = m_1**2 + 1, m = m_1, a = a_1, c = c_1, x_0 = x_0)\n",
    "plot_clock_face(m_1,fig,annotate = True)\n",
    "plot_clock_path(m_1,u,fig)\n",
    "plt.axis('equal')\n",
    "plt.axis('off')\n",
    "\n",
    "fig = plt.subplot2grid((6,6), (0,2), colspan=2, rowspan=2)\n",
    "m_2 = 7\n",
    "a_2 = 2\n",
    "c_2 = 0\n",
    "v, y = LCG(n = m_1**2 + 1, m = m_2, a = a_2, c = c_2, x_0 = x_0)\n",
    "plot_clock_face(m_2,fig,annotate = True)\n",
    "plot_clock_path(m_2,v,fig)\n",
    "plt.axis('equal')\n",
    "plt.axis('off')\n",
    "\n",
    "plt.show()"
   ]
  },
  {
   "cell_type": "markdown",
   "metadata": {
    "colab_type": "text",
    "id": "oF9iJdD38WyY"
   },
   "source": [
    "Observe that the first LCG has period 4, and the second LCG has period 3"
   ]
  },
  {
   "cell_type": "markdown",
   "metadata": {
    "colab_type": "text",
    "id": "KaohIYsr8htL"
   },
   "source": [
    "#### Part b \n",
    "Next, define a combined LCG as $z_{n} = (x_n +y_n ) \\mod 16$. Starting both the base LCGs with seed $x_0 = y_0 = 1$, plot the sequence $z_n$ using the clock visualization.\n",
    "\n",
    "What is the period of this new sequence?"
   ]
  },
  {
   "cell_type": "code",
   "execution_count": 6,
   "metadata": {
    "colab": {
     "base_uri": "https://localhost:8080/",
     "height": 607
    },
    "colab_type": "code",
    "id": "rpevzlpf8jeN",
    "outputId": "1d308117-dff3-4200-deb6-c1b149cb471b"
   },
   "outputs": [
    {
     "data": {
      "image/png": "[encoded data removed]",
      "text/plain": [
       "<Figure size 1500x1500 with 1 Axes>"
      ]
     },
     "metadata": {},
     "output_type": "display_data"
    }
   ],
   "source": [
    "fig = plt.figure()\n",
    "fig.set_size_inches(w=15,h=15)\n",
    "\n",
    "fig = plt.subplot2grid((6,6), (2,0), colspan=4, rowspan=4)\n",
    "\n",
    "m_3 = 16\n",
    "z = (x+y)%m_3\n",
    "w = (z+1.0)/(m_3+1.0) # normalize z\n",
    "\n",
    "plot_clock_face(m_3,fig,annotate = True)\n",
    "plot_clock_path(m_3,w,fig)\n",
    "plt.axis('equal')\n",
    "plt.axis('off');"
   ]
  },
  {
   "cell_type": "markdown",
   "metadata": {
    "colab_type": "text",
    "id": "A1iY8Xt781qw"
   },
   "source": [
    "Observe that this sequence has a much better period of $12$"
   ]
  },
  {
   "cell_type": "markdown",
   "metadata": {},
   "source": []
  }
 ],
 "metadata": {
  "colab": {
   "collapsed_sections": [],
   "name": "Recitation3_soln.ipynb",
   "provenance": [],
   "version": "0.3.2"
  },
  "kernelspec": {
   "display_name": "Python 3 (ipykernel)",
   "language": "python",
   "name": "python3"
  },
  "language_info": {
   "codemirror_mode": {
    "name": "ipython",
    "version": 3
   },
   "file_extension": ".py",
   "mimetype": "text/x-python",
   "name": "python",
   "nbconvert_exporter": "python",
   "pygments_lexer": "ipython3",
   "version": "3.9.2"
  }
 },
 "nbformat": 4,
 "nbformat_minor": 1
}
