{
  "cells": [
    {
      "cell_type": "markdown",
      "metadata": {
        "id": "1WRDtsPYbGdH"
      },
      "source": [
        "# ORIE 4580/5580/5581 Fall 2025\n",
        "\n",
        "# **Recitation 1 - Intro to Python**"
      ]
    },
    {
      "cell_type": "markdown",
      "metadata": {
        "id": "5uii98-3bnzu"
      },
      "source": [
        "## Getting Started\n",
        "\n",
        "In this course we will make use of python notebooks. We will demonstrate and support the use of Google Colab so that you don't have to worry about installing python and various libraries on your personal device. Though you are welcome to set up your own python environment on your device (e.g. using Anaconda), we may not be able to help you with some issues you may encounter.\n",
        "\n",
        "Go to https://colab.research.google.com/ and sign in with a Google account. Then you can create a new notebook, open an existing notebook, or upload a notebook by clicking the \"File\" button in the top left of the window and choosing the respective option from the dropdown menu. For recitations, you may want to download the notebook from Canvas and then upload and open it in Google Colab so you can have your questions and answers next to each other. For homeworks you will likely create a new notebook from scratch.\n",
        "\n",
        "Right under the \"File\" button are the \"Code+\" and \"Text+\" buttons. These let you add code cells and text cells respectively. Code cells are where you type your Python code and can run it by either clicking the play button that pops up on the left of the cell when you move your mouse over it or by clicking the cell and using the keyboard shortcut \"Shift+Enter\". The text cells let you add text/math in the notebook and is what allows us to display the text you're currently reading.\n",
        "\n",
        "To save a notebook as a pdf to turn in (for homeworks or projects, no need to turn in for recitations), select \"File\" -> \"Print\" and then choose \"Save as PDF\" as the destination."
      ]
    },
    {
      "cell_type": "markdown",
      "metadata": {
        "id": "9c0dsEJ7b_Az"
      },
      "source": [
        "\n",
        "\n",
        "---\n",
        "\n",
        "\n",
        "\n",
        "---\n",
        "\n"
      ]
    },
    {
      "cell_type": "markdown",
      "metadata": {
        "id": "UEgNgGzate98"
      },
      "source": [
        "# Numpy Primer\n",
        "\n",
        "You may be used to writing for loops in other classes but in python, iterating over lists (e.g. `[1,2,3]`) and operating on each element is very slow. One reason is that the objects in these lists can be of different types and sizes, for example `a = [1,'hello', (3,4,5), myObject]` is valid Python.\n",
        "\n",
        "When working with numerical data, it's a good idea instead to use Numpy arrays where looping is done in optimized C code making use of vectorized operations. Consider two ways of applying a simple function to an array of numbers."
      ]
    },
    {
      "cell_type": "code",
      "execution_count": null,
      "metadata": {
        "id": "VGy59ZKRNNgR"
      },
      "outputs": [],
      "source": [
        "# Importing Numpy\n",
        "import numpy as np\n",
        "\n",
        "# Importing Scipy (for PDFs and CDFs of distributions)\n",
        "import scipy as sc\n",
        "\n",
        "# Importing matplotlib for plotting\n",
        "import matplotlib.pyplot as plt\n",
        "%matplotlib inline"
      ]
    },
    {
      "cell_type": "markdown",
      "metadata": {
        "id": "ngN3CBPaiPXL"
      },
      "source": [
        "## Creating Numpy arrays"
      ]
    },
    {
      "cell_type": "code",
      "execution_count": null,
      "metadata": {
        "colab": {
          "base_uri": "https://localhost:8080/"
        },
        "id": "tTgphgWqim4f",
        "outputId": "5125371d-a971-4f49-832e-2e12019fabc3"
      },
      "outputs": [
        {
          "name": "stdout",
          "output_type": "stream",
          "text": [
            "Range Array: [0 2 4 6 8]\n",
            "Linspace Array: [0.   0.25 0.5  0.75 1.  ]\n",
            "Random Array: [[0.73278832 0.68342314 0.73325622]\n",
            " [0.09833189 0.04530345 0.98935283]\n",
            " [0.84128983 0.65613431 0.87628556]]\n",
            "Zeros Array: [[0. 0. 0. 0.]\n",
            " [0. 0. 0. 0.]]\n",
            "Ones Array: [[1. 1.]\n",
            " [1. 1.]\n",
            " [1. 1.]]\n"
          ]
        }
      ],
      "source": [
        "# Creating an array with a range of values\n",
        "arr_range = np.arange(0, 10, 2)  # Start, end, step\n",
        "\n",
        "# Creating an array with a specified number of equally spaced values\n",
        "arr_linspace = np.linspace(0, 1, 5)  # Start, end, number of values\n",
        "\n",
        "# Creating an array of random values\n",
        "arr_random = np.random.rand(3, 3)  # 3x3 random values between 0 and 1\n",
        "\n",
        "# Creating an array with a specific shape and fill value\n",
        "arr_zeros = np.zeros((2, 4))\n",
        "arr_ones = np.ones((3, 2))\n",
        "\n",
        "# Display the arrays\n",
        "print(\"Range Array:\", arr_range)\n",
        "print(\"Linspace Array:\", arr_linspace)\n",
        "print(\"Random Array:\", arr_random)\n",
        "print(\"Zeros Array:\", arr_zeros)\n",
        "print(\"Ones Array:\", arr_ones)"
      ]
    },
    {
      "cell_type": "markdown",
      "metadata": {
        "id": "MTX6bkWNi36g"
      },
      "source": [
        "### Practice exercises: Creating Arrays\n",
        "\n",
        "1. Create a 1D array of even numbers from 10 to 50.\n",
        "2. Create a 2D array of random integers between 1 and 100 with a shape of 4x5.\n",
        "3. Create a 1D array of logarithmically spaced values between 0.1 and 1000 (inclusive).\n",
        "4. Create a 3x3 identity matrix and multiply it by 5."
      ]
    },
    {
      "cell_type": "markdown",
      "metadata": {
        "id": "XmCAmp3Zeo8p"
      },
      "source": [
        "## Numpy is optimized for array operations\n",
        "\n",
        "To make your code fast, you should get into a habit of using numpy functions and operations as much as possible for any mathematical task that you have, while on the other hand, minimizing looping over arrays. The following example demonstrates the difference in speeds of the same operation (computing the squares of the first $n$ whole numbers) using different methods."
      ]
    },
    {
      "cell_type": "code",
      "execution_count": null,
      "metadata": {
        "colab": {
          "base_uri": "https://localhost:8080/"
        },
        "id": "a_EO8_NPuX1c",
        "outputId": "0a34da52-c5f3-45f3-ca9c-0f50858ec685",
        "scrolled": true
      },
      "outputs": [
        {
          "name": "stdout",
          "output_type": "stream",
          "text": [
            "[0, 1, 4, 9, 16, 25, 36, 49, 64, 81, 100, 121, 144, 169, 196, 225, 256, 289, 324, 361]\n",
            "[0, 1, 4, 9, 16, 25, 36, 49, 64, 81, 100, 121, 144, 169, 196, 225, 256, 289, 324, 361]\n",
            "[  0   1   4   9  16  25  36  49  64  81 100 121 144 169 196 225 256 289\n",
            " 324 361]\n"
          ]
        }
      ],
      "source": [
        "# Using for loops and lists\n",
        "y = []\n",
        "for i in range(20):\n",
        "    y.append(i**2)\n",
        "print(y)\n",
        "\n",
        "# Using list comprehensions\n",
        "y = [i**2 for i in range(20)]\n",
        "print(y)\n",
        "\n",
        "# Using numpy arrays\n",
        "x = np.arange(20)\n",
        "y = x**2\n",
        "print(y)"
      ]
    },
    {
      "cell_type": "markdown",
      "metadata": {
        "id": "tyBCc0BOgXXt"
      },
      "source": [
        "We now use the [timeit cell magic](https://ipython.readthedocs.io/en/stable/interactive/magics.html#magic-timeit) command to compare these methods"
      ]
    },
    {
      "cell_type": "code",
      "execution_count": null,
      "metadata": {
        "colab": {
          "base_uri": "https://localhost:8080/"
        },
        "id": "5C5-2HOKgi5J",
        "outputId": "4faa6edd-5e97-4c37-a150-002083984395"
      },
      "outputs": [
        {
          "name": "stdout",
          "output_type": "stream",
          "text": [
            "7.75 ms ± 1.46 ms per loop (mean ± std. dev. of 7 runs, 100 loops each)\n"
          ]
        }
      ],
      "source": [
        "%%timeit\n",
        "# Using for loops and lists\n",
        "n = 20000\n",
        "y = []\n",
        "for i in range(n):\n",
        "    y.append(i**2)"
      ]
    },
    {
      "cell_type": "code",
      "execution_count": null,
      "metadata": {
        "colab": {
          "base_uri": "https://localhost:8080/"
        },
        "id": "0UDHMchhgxpB",
        "outputId": "1ad83a5a-0c8d-4f75-b889-79060a31bee2"
      },
      "outputs": [
        {
          "name": "stdout",
          "output_type": "stream",
          "text": [
            "6.96 ms ± 1.12 ms per loop (mean ± std. dev. of 7 runs, 100 loops each)\n"
          ]
        }
      ],
      "source": [
        "%%timeit\n",
        "n = 20000\n",
        "[i**2 for i in range(n)]"
      ]
    },
    {
      "cell_type": "code",
      "execution_count": null,
      "metadata": {
        "colab": {
          "base_uri": "https://localhost:8080/"
        },
        "id": "D6VZQMkPxaFe",
        "outputId": "87bc9d40-4b5a-42ab-bc38-5d8b3d995c8f"
      },
      "outputs": [
        {
          "name": "stdout",
          "output_type": "stream",
          "text": [
            "25.1 µs ± 6.89 µs per loop (mean ± std. dev. of 7 runs, 10000 loops each)\n"
          ]
        }
      ],
      "source": [
        "%%timeit\n",
        "n = 20000\n",
        "np.arange(n)**2"
      ]
    },
    {
      "cell_type": "markdown",
      "metadata": {
        "id": "FL3XGAxBhOha"
      },
      "source": [
        "By the way, why do you think the number of loops in the previous cases are different? You may find [this StackOverflow answer](https://stackoverflow.com/questions/48258008/n-and-r-arguments-to-ipythons-timeit-magic/59543135#59543135) interesting!"
      ]
    },
    {
      "cell_type": "markdown",
      "metadata": {
        "id": "7qld--N5L_dC"
      },
      "source": [
        "## Indexing and Slicing"
      ]
    },
    {
      "cell_type": "code",
      "execution_count": null,
      "metadata": {
        "colab": {
          "base_uri": "https://localhost:8080/"
        },
        "id": "3KvqYMq1nnCO",
        "outputId": "0a81aceb-722a-472c-ea21-11b70b8a5682"
      },
      "outputs": [
        {
          "name": "stdout",
          "output_type": "stream",
          "text": [
            "[[1 2 3]\n",
            " [4 5 6]\n",
            " [7 8 9]]\n"
          ]
        }
      ],
      "source": [
        "arr = np.array([[1, 2, 3], [4, 5, 6], [7, 8, 9]])\n",
        "print(arr)"
      ]
    },
    {
      "cell_type": "code",
      "execution_count": null,
      "metadata": {
        "colab": {
          "base_uri": "https://localhost:8080/"
        },
        "id": "-WmSxsUqkGfl",
        "outputId": "5b01eb84-dc69-4afa-bb4d-c927ea59e339"
      },
      "outputs": [
        {
          "name": "stdout",
          "output_type": "stream",
          "text": [
            "Element[1,2]: 6\n",
            "Last element: 9\n",
            "Subarray:\n",
            "[[2 3]\n",
            " [5 6]]\n"
          ]
        }
      ],
      "source": [
        "# Indexing to get a single element\n",
        "element12 = arr[1, 2]  # Row 1, Column 2\n",
        "\n",
        "# Indexing to get element in last row and column\n",
        "last_element = arr[-1, -1]  # Row 1, Column 2\n",
        "\n",
        "# Slicing to get a subarray\n",
        "subarray = arr[0:2, 1:3]  # Rows 0 to 1, Columns 1 to 2\n",
        "\n",
        "# Display the results\n",
        "print(\"Element[1,2]:\", element12)\n",
        "print(\"Last element:\", last_element)\n",
        "print(\"Subarray:\")\n",
        "print(subarray)"
      ]
    },
    {
      "cell_type": "markdown",
      "metadata": {
        "id": "2olczNj8j-O2"
      },
      "source": [
        "\n",
        "Practice Exercises: Indexing and Slicing Arrays\n",
        "\n",
        "1. Get the element at the center of the `arr` array.\n",
        "2. Extract the last column of `arr`.\n",
        "3. Slice the bottom-right 2x2 subarray of `arr`.\n",
        "4. Create a new array containing the middle row of `arr`."
      ]
    },
    {
      "cell_type": "markdown",
      "metadata": {
        "id": "P4ao98SenRzL"
      },
      "source": [
        "### Fancier indexing methods\n"
      ]
    },
    {
      "cell_type": "code",
      "execution_count": null,
      "metadata": {
        "colab": {
          "base_uri": "https://localhost:8080/"
        },
        "id": "ogq_W1gqnYsw",
        "outputId": "7e28f8f5-6e8e-499a-ae54-0033d9857422"
      },
      "outputs": [
        {
          "name": "stdout",
          "output_type": "stream",
          "text": [
            "Selected Elements:\n",
            "[2 9]\n"
          ]
        }
      ],
      "source": [
        "# Using fancy indexing to select specific elements\n",
        "indices_row = np.array([0, 2])\n",
        "indices_col = np.array([1, 2])\n",
        "selected_elements = arr[indices_row, indices_col]\n",
        "\n",
        "# Display the result\n",
        "print(\"Selected Elements:\")\n",
        "print(selected_elements)\n"
      ]
    },
    {
      "cell_type": "markdown",
      "metadata": {
        "id": "kbYXOzI5kVnC"
      },
      "source": [
        "\n",
        "Practice Exercise:\n",
        "\n",
        "1. Select elements at the corners of `arr`."
      ]
    },
    {
      "cell_type": "markdown",
      "metadata": {
        "id": "KSAaaQ3cn-_U"
      },
      "source": [
        "\n",
        "### Boolean (logical) indexing"
      ]
    },
    {
      "cell_type": "code",
      "execution_count": null,
      "metadata": {
        "colab": {
          "base_uri": "https://localhost:8080/",
          "height": 68
        },
        "id": "U0Mte5lTJwx4",
        "outputId": "f0e4d49d-b169-452e-91e7-3b76e47fbbfc"
      },
      "outputs": [
        {
          "name": "stdout",
          "output_type": "stream",
          "text": [
            "[ 9 16 25 36 49]\n",
            "[False False False  True  True  True  True  True  True  True]\n",
            "[ 9 16 25 36 49 64 81]\n"
          ]
        }
      ],
      "source": [
        "# Indexing and slicing\n",
        "y = np.arange(10)**2\n",
        "print(y[3:8])\n",
        "mask = y > 5\n",
        "print(mask)\n",
        "\n",
        "# Indexing by boolean masks\n",
        "print(y[mask])"
      ]
    },
    {
      "cell_type": "markdown",
      "metadata": {
        "id": "b36Ze7aGobI7"
      },
      "source": [
        "Practice Exercises:\n",
        "\n",
        "1. Use boolean indexing to select elements from `y` that are divisible by 3.\n",
        "2. Create a boolean array indicating whether elements in `y` are even, then use it to extract the even elements.\n"
      ]
    },
    {
      "cell_type": "markdown",
      "metadata": {
        "id": "dR3vYF3xpEK_"
      },
      "source": [
        "### Multi-dimensional Array Operations"
      ]
    },
    {
      "cell_type": "code",
      "execution_count": null,
      "metadata": {
        "colab": {
          "base_uri": "https://localhost:8080/"
        },
        "id": "hosFpp3lpM1p",
        "outputId": "676a45d8-9237-4700-a00c-0f57f3aba3c8"
      },
      "outputs": [
        {
          "name": "stdout",
          "output_type": "stream",
          "text": [
            "Matrix Product:\n",
            "[[19 22]\n",
            " [43 50]]\n",
            "Element-wise Multiplication:\n",
            "[[ 5 12]\n",
            " [21 32]]\n",
            "Transpose of arr1:\n",
            "[[1 3]\n",
            " [2 4]]\n"
          ]
        }
      ],
      "source": [
        "# Creating 2D arrays\n",
        "arr1 = np.array([[1, 2], [3, 4]])\n",
        "arr2 = np.array([[5, 6], [7, 8]])\n",
        "\n",
        "# Matrix multiplication\n",
        "matrix_product = np.dot(arr1, arr2)\n",
        "\n",
        "# Element-wise multiplication\n",
        "element_wise_mult = arr1 * arr2\n",
        "\n",
        "# Transpose of an array\n",
        "arr1_transpose = arr1.T\n",
        "\n",
        "# Display the results\n",
        "print(\"Matrix Product:\")\n",
        "print(matrix_product)\n",
        "print(\"Element-wise Multiplication:\")\n",
        "print(element_wise_mult)\n",
        "print(\"Transpose of arr1:\")\n",
        "print(arr1_transpose)\n"
      ]
    },
    {
      "cell_type": "markdown",
      "metadata": {
        "id": "KHXY9Ds_pQMN"
      },
      "source": [
        "Practice Exercises\n",
        "1. Divide `arr1` by a scalar value of `3`. Also try dividing by `3.0` (Python is sometimes loose about type conversion, so its important to know when it happens and when it does not)\n",
        "2. Perform element-wise division between `arr2` and `arr1`.\n",
        "3. Calculate the determinant of `arr1`.\n"
      ]
    },
    {
      "cell_type": "markdown",
      "metadata": {
        "id": "_M-QqevNw6Fs"
      },
      "source": [
        "### Intro to `numpy.random`\n",
        "\n",
        "A workhorse for this course is the numpy.random package, which gives functions for sampling from various standard distributions. We see some examples below; get very used to looking up the [manual](https://numpy.org/doc/stable/reference/random/index.html) for this package to know exactly what each function does!\n"
      ]
    },
    {
      "cell_type": "code",
      "execution_count": null,
      "metadata": {
        "colab": {
          "base_uri": "https://localhost:8080/"
        },
        "id": "5s9h2SU6wq3Z",
        "outputId": "9dec8fef-fa29-45b5-ff29-e4edeab3f154"
      },
      "outputs": [
        {
          "name": "stdout",
          "output_type": "stream",
          "text": [
            "Random Number between 0 and 1: 0.5212067721811995\n",
            "Array of Random Numbers: [0.27149617 0.62455712 0.74401334 0.61909806 0.42700555]\n"
          ]
        }
      ],
      "source": [
        "# Generating a single random number between 0 and 1\n",
        "rand_num = np.random.random()\n",
        "print(\"Random Number between 0 and 1:\", rand_num)\n",
        "\n",
        "# Generating an array of random numbers between 0 and 1\n",
        "rand_array = np.random.random(5)\n",
        "print(\"Array of Random Numbers:\", rand_array)"
      ]
    },
    {
      "cell_type": "markdown",
      "metadata": {
        "id": "zMqvpokMx7XJ"
      },
      "source": [
        "#### Sampling from different distributions\n"
      ]
    },
    {
      "cell_type": "code",
      "execution_count": null,
      "metadata": {
        "colab": {
          "base_uri": "https://localhost:8080/"
        },
        "id": "mo43-qErx0lN",
        "outputId": "abedfff8-b535-4f96-e22d-ffda2c096a30"
      },
      "outputs": [
        {
          "name": "stdout",
          "output_type": "stream",
          "text": [
            "Uniform Random Numbers: [1.24711609 6.09941079 3.75738863 9.9330436  4.08383972]\n",
            "Normal Random Numbers: [-0.77979299  0.23614888  0.75916381 -0.98874206  0.49427191]\n",
            "Binomial Random Numbers: [5 6 6 6 3]\n",
            "Poisson Random Numbers: [2 1 5 1 3]\n",
            "Exponential Random Numbers: [1.90240498 2.18835587 4.27031882 4.29352232 4.12823405]\n",
            "Random 2D Array: [[-0.96699597  0.59745887  1.22525779]\n",
            " [-0.22250387  0.49437983  1.60106342]\n",
            " [ 0.0938704   1.55652502 -0.50929182]]\n"
          ]
        }
      ],
      "source": [
        "# Generating random numbers from a uniform distribution\n",
        "uniform_rand = np.random.uniform(low=0, high=10, size=5)\n",
        "print(\"Uniform Random Numbers:\", uniform_rand)\n",
        "\n",
        "# Generating random numbers from a normal distribution\n",
        "normal_rand = np.random.normal(loc=0, scale=1, size=5)\n",
        "print(\"Normal Random Numbers:\", normal_rand)\n",
        "\n",
        "# Generating random numbers from a binomial distribution\n",
        "binomial_rand = np.random.binomial(n=10, p=0.5, size=5)\n",
        "print(\"Binomial Random Numbers:\", binomial_rand)\n",
        "\n",
        "# Generating random numbers from a Poisson distribution\n",
        "poisson_rand = np.random.poisson(lam=3, size=5)\n",
        "print(\"Poisson Random Numbers:\", poisson_rand)\n",
        "\n",
        "# Generating random numbers from an exponential distribution\n",
        "exponential_rand = np.random.exponential(scale=2, size=5)\n",
        "print(\"Exponential Random Numbers:\", exponential_rand)\n",
        "\n",
        "# Generating a 2D array with random values from a normal distribution\n",
        "random_array = np.random.normal(loc=0, scale=1, size=(3, 3))\n",
        "print(\"Random 2D Array:\", random_array)"
      ]
    },
    {
      "cell_type": "markdown",
      "metadata": {
        "id": "UNHggd1ojurE"
      },
      "source": [
        "### Basic Statistical Operations\n",
        "\n",
        "Finally, we will see how to perform basic statistical operations on arrays - you will use these a lot this semester!"
      ]
    },
    {
      "cell_type": "code",
      "execution_count": null,
      "metadata": {
        "colab": {
          "base_uri": "https://localhost:8080/"
        },
        "id": "ZuDTs2BUuVx2",
        "outputId": "e24ae442-97e4-4bca-d515-de58aa7a24c0"
      },
      "outputs": [
        {
          "name": "stdout",
          "output_type": "stream",
          "text": [
            "Data: [18  3  5  8  9  4  1 15 16 18]\n",
            "Mean: 9.7\n",
            "Median: 8.5\n",
            "Standard Deviation: 6.197580172938467\n",
            "Variance: 38.410000000000004\n",
            "Maximum: 18\n",
            "Minimum: 1\n"
          ]
        }
      ],
      "source": [
        "# Creating a 1D array\n",
        "data = np.random.randint(1,20,size=10)\n",
        "\n",
        "# Mean and median\n",
        "mean_data = np.mean(data)\n",
        "median_data = np.median(data)\n",
        "\n",
        "# Standard deviation and variance\n",
        "std_data = np.std(data)\n",
        "var_data = np.var(data)\n",
        "\n",
        "# Max and min\n",
        "max_data = np.max(data)\n",
        "min_data = np.min(data)\n",
        "\n",
        "# Display the results\n",
        "print(\"Data:\",data)\n",
        "print(\"Mean:\", mean_data)\n",
        "print(\"Median:\", median_data)\n",
        "print(\"Standard Deviation:\", std_data)\n",
        "print(\"Variance:\", var_data)\n",
        "print(\"Maximum:\", max_data)\n",
        "print(\"Minimum:\", min_data)"
      ]
    },
    {
      "cell_type": "markdown",
      "metadata": {
        "id": "XogFPH21uhuu"
      },
      "source": [
        "Practice Exercise:\n",
        "\n",
        "1. Find the index of the maximum value in `arr`.\n",
        "2. Calculate the 75th percentile of `arr`.\n",
        "3. Calculate the correlation coefficient between two given arrays (recall how this was defined...)\n"
      ]
    },
    {
      "cell_type": "markdown",
      "metadata": {
        "id": "iQlf203acHh5"
      },
      "source": [
        "\n",
        "\n",
        "\n",
        "\n",
        "---\n",
        "\n",
        "\n",
        "\n",
        "---\n",
        "\n"
      ]
    },
    {
      "cell_type": "markdown",
      "metadata": {
        "id": "3efgKaCabnzw"
      },
      "source": [
        "## Question 1:  Saving the drunks\n",
        "\n",
        "Suppose you are part of a paramedic team on foot assigned a $1$ mile stretch of the Las Vegas Strip for which you must respond to calls of drunk people needing medical attention. You and your team can walk at $1\\text{mph}$ to respond to calls. Your section of the strip has a casino near the left end of it, thus you are more likely to respond to calls on the left side of your strip. Specifically, the location of your calls is distributed according to a $\\text{Beta}(2,6)$ distribution.\n",
        "\n",
        "You will eventually need to decide which location to choose as your base, where you wait to receive a call, to minimize your response time to the first call. You are also interested in the probability that you'll have to walk enough to work up a sweat to get to the first call from your base location.\n",
        "\n",
        "a) Draw $1000$ samples from the $\\text{Beta}(2,6)$ call location distribution and create a histogram of the samples with $20$ bins."
      ]
    },
    {
      "cell_type": "code",
      "execution_count": null,
      "metadata": {
        "id": "IRxCf1DBbnzw"
      },
      "outputs": [],
      "source": []
    },
    {
      "cell_type": "markdown",
      "metadata": {
        "id": "pwjojXzxbnzw"
      },
      "source": [
        "b) Plot the normalized histogram, by specifying density = True as an argument in the histogram function, on the same plot as the true pdf so that we can compare our histogram estimate of the pdf with the true pdf.\n",
        "\n",
        "Hint: you can plot the histogram and pdf on top of eachother by using **plt.hist(...)** and **plt.plot(...)** for the pdf in seperate lines of code. You can also evaluate the pdf of a $\\text{Beta}(\\text{alpha},\\text{beta})$ distribution at point $x$ by using **sc.stats.beta.pdf(x, alpha, beta)**."
      ]
    },
    {
      "cell_type": "code",
      "execution_count": null,
      "metadata": {
        "id": "tdiICvbwbnzw"
      },
      "outputs": [],
      "source": []
    },
    {
      "cell_type": "markdown",
      "metadata": {
        "id": "7AaqvNHJbnzw"
      },
      "source": [
        "c) Estimate the average response time for each base location ranging from $0, 0.01, 0.02, \\ldots, 0.99, 1$ using $n=10000$ for each estimate and plot the estimates."
      ]
    },
    {
      "cell_type": "code",
      "execution_count": null,
      "metadata": {
        "id": "81n4Iqbybnzw"
      },
      "outputs": [],
      "source": []
    },
    {
      "cell_type": "markdown",
      "metadata": {
        "id": "0QRrHveRbnzw"
      },
      "source": [
        "d) What was the smallest estimated average response time and what was the location of the base with the lowest value?\n",
        "\n",
        "Hint: use **np.argmin(...)**"
      ]
    },
    {
      "cell_type": "code",
      "execution_count": null,
      "metadata": {
        "id": "3RaQYoSVbnzw"
      },
      "outputs": [],
      "source": []
    },
    {
      "cell_type": "markdown",
      "metadata": {
        "id": "PKXHiOIdbnzw"
      },
      "source": [
        "e) Estimate the probability that you will have to walk more than $0.2$ miles, and thus get sweaty, to get to the call when base location is $0.23$."
      ]
    },
    {
      "cell_type": "markdown",
      "metadata": {
        "id": "pT5FF-wMbnzw"
      },
      "source": [
        "*Solution*\n",
        "\n",
        "This probability is $P(|\\text{call location} - 0.23|> 0.2)$"
      ]
    },
    {
      "cell_type": "code",
      "execution_count": null,
      "metadata": {
        "id": "Pg4uPf31bnzw"
      },
      "outputs": [],
      "source": []
    },
    {
      "cell_type": "markdown",
      "metadata": {
        "id": "B0YlNXTHbnzw"
      },
      "source": [
        "f) What is the true probability that you will have to walk more than $0.2$ miles to get to the call when base location is $0.23$?\n",
        "\n",
        "Hint: You can evaluate the cdf of a $\\text{Beta}(\\text{alpha},\\text{beta})$ distribution at point $x$ by using **sc.stats.beta.cdf(x, alpha, beta)**"
      ]
    },
    {
      "cell_type": "markdown",
      "metadata": {
        "id": "u_8PbtH9bnzw"
      },
      "source": [
        "*Solution*\n",
        "\n",
        "\n",
        "(write answer here in markdown, and then use codebox to compute)"
      ]
    },
    {
      "cell_type": "code",
      "execution_count": null,
      "metadata": {
        "id": "asZ_gLGRbnzw"
      },
      "outputs": [],
      "source": []
    },
    {
      "cell_type": "markdown",
      "metadata": {
        "id": "sxggImtFbnzx"
      },
      "source": [
        "g) How does your absolute error of the estimated probability of having to walk more than $0.2$ miles with base location $0.23$ change as a function of $n$? Plot the error for a few values of $n$ between  10,000  and  1,000,000 ."
      ]
    },
    {
      "cell_type": "markdown",
      "metadata": {
        "id": "Su-0ZEtgbnzx"
      },
      "source": [
        "*Solution*\n",
        "\n"
      ]
    },
    {
      "cell_type": "code",
      "execution_count": null,
      "metadata": {
        "id": "v0GJfevubnzx"
      },
      "outputs": [],
      "source": []
    },
    {
      "cell_type": "markdown",
      "metadata": {
        "id": "wrXY33-DWiBm"
      },
      "source": [
        "## Question 2:   Using CDFs\n",
        "\n",
        "In this question, we'll see how you can use CDFs to derive new distributions (and also practice numpy, plotting, etc).\n",
        "\n",
        "Suppose random variables $X_{1}, X_{2}$ are i.i.d uniform random variables on $[0,1]$.  We define random variables $M_2 = \\max (X_{1}, X_{2})$ as the maximum between each pair  of $X_{1}, X_{2}$.\n",
        "\n",
        "a)  Let $n=1000$.  Generate $n$ samples of $M_2$:  $\\hat M_2[1], \\dots, \\hat M_2[n]$.  Plot the samples using a histogram and 10 bins.  "
      ]
    },
    {
      "cell_type": "markdown",
      "metadata": {
        "id": "3dr3EXy9d6j4"
      },
      "source": [
        "*Solution:*"
      ]
    },
    {
      "cell_type": "code",
      "execution_count": null,
      "metadata": {
        "id": "o2bSC5Q-d5_x"
      },
      "outputs": [],
      "source": []
    },
    {
      "cell_type": "markdown",
      "metadata": {
        "id": "hQ8-LWuiC0x_"
      },
      "source": [
        "The histogram was found using simulating data.  We can also plot the EMPIRICAL cdf from our generated data.\n",
        "\n",
        "b)  If the only thing we knew about our distribution is our sample $\\hat M_2$, then we would assume that the probability of seeing the $j$-th largest value in $\\hat M_2$ is $j/n$.  This forms the empirical cdf.\n",
        "\n",
        "Plot the empirical cdf based on our sample $\\hat M_2$ as a line graph.  What function does it remind you of?\n",
        "\n"
      ]
    },
    {
      "cell_type": "code",
      "execution_count": null,
      "metadata": {
        "id": "NdchCMwOEgKe"
      },
      "outputs": [],
      "source": []
    },
    {
      "cell_type": "markdown",
      "metadata": {
        "id": "1JzUmG1BIXmB"
      },
      "source": [
        "The empirical cdf is generated from data, so it's not exact and changes slightly every time you generate a new sample.  The true cdf $F(x) = P(M_2 \\leq x)$ has to be computed theoretically, and it's useful for learning about the distribution of $M_2$ and for computing things like expectation, variance, etc.\n",
        "\n",
        "\n",
        "c)  Compute the cdf $F(x)$ and pdf $f(x)$ for $M_2$, as well as the expectation $E(M_2)$.  Compare the true cdf/pdf to the empirical cdf/pdf (plots) you generated above.\n",
        "\n"
      ]
    },
    {
      "cell_type": "markdown",
      "metadata": {
        "id": "V2tJ2Ju3JKwA"
      },
      "source": [
        "*Solution:*\n",
        "\n",
        "(write answer in Markdown)"
      ]
    },
    {
      "cell_type": "markdown",
      "metadata": {
        "id": "LJQFkKdgLiRf"
      },
      "source": [
        "d)  Let $M_N = \\max(X_1, \\dots, X_N)$ where $X_i$ are i.i.d uniform variables on $(0,1)$.  Compute the cdf, pdf, and expectation of $M_N$.  Also compute the limit of $E(M_N)$ as $N \\to \\infty$."
      ]
    },
    {
      "cell_type": "markdown",
      "metadata": {
        "id": "uA1oEqXBLyJo"
      },
      "source": [
        "*Solution:*\n",
        "\n"
      ]
    },
    {
      "cell_type": "markdown",
      "metadata": {
        "id": "AYdZ-9Tybnz6"
      },
      "source": [
        "## Question 3: Central limit theorem and Monte Carlo methods in insurance\n",
        "\n",
        "An insurance company serves five large customers. The insurance claim placed by each customer in a year is exponentially distributed with mean 200. Assume that the insurance claims from different customers are independent from each other.\n",
        "\n",
        "a)  Estimate the probability that the total insurance claim placed by all customers in a year exceeds 900 by using the CLT approximation."
      ]
    },
    {
      "cell_type": "markdown",
      "metadata": {
        "id": "oX3bSpHUbnz6"
      },
      "source": [
        "**Solution:**\n",
        "\n",
        "Let $X_i$ be the value of the insurance claim placed by customer $i$ for $i = 1, \\ldots, 5$. The CLT stipulates that, approximately,\n",
        "\n",
        "\\begin{align*}\n",
        " \\frac{1}{5}\\sum_{i=1}^5X_i \\sim \\mathcal{N}(\\mu = 200, \\sigma^2 = 200^2/5).\n",
        " \\end{align*}\n",
        "A sum of 900 or more over five customers corresponds to an average of 180 or more. Thus\n",
        "\\begin{align*}\n",
        " \\mathbb{P}\\left(\\frac{1}{5}\\sum_{i=1}^5 X_i > 180\\right) \\approx \\mathbb{P}(\\mathcal{N}(200,200^2/5)>180) =1-\\Phi(-\\sqrt{5}/10) = 0.588.\n",
        " \\end{align*}"
      ]
    },
    {
      "cell_type": "code",
      "execution_count": null,
      "metadata": {
        "id": "6ZHBhaBKbnz6"
      },
      "outputs": [],
      "source": []
    },
    {
      "cell_type": "markdown",
      "metadata": {
        "id": "Uxt41HdYbnz6"
      },
      "source": [
        "---"
      ]
    },
    {
      "cell_type": "markdown",
      "metadata": {
        "id": "yT0QB-Xqbnz6"
      },
      "source": [
        "b)  Use 5,000 replications of a Monte Carlo simulation to estimate the probability that the total insurance claim placed by all customers in a year exceeds 900."
      ]
    },
    {
      "cell_type": "markdown",
      "metadata": {
        "id": "FBamnRd9bnz6"
      },
      "source": [
        "**Solution:**"
      ]
    },
    {
      "cell_type": "code",
      "execution_count": null,
      "metadata": {
        "id": "VXifiqWSbnz6"
      },
      "outputs": [],
      "source": []
    },
    {
      "cell_type": "markdown",
      "metadata": {
        "id": "II01qROrbnz6"
      },
      "source": [
        "---\n"
      ]
    },
    {
      "cell_type": "markdown",
      "metadata": {
        "id": "4R-3Fh88bnz7"
      },
      "source": [
        "c) Calculate the true probability that the total insurance claim placed by all customers in a year exceeds 900.\n",
        "\n",
        "Hint: The sum of $k$ independent exponential random variables, each with mean $\\beta$, follows an Erlang distribution with parameters $k$ and $\\beta$ (note the second parameter in this case is called the scale parameter which is the parameterization scipy uses, alternatively some references define the second parameter to be the rate parameter, which is the reciprocal of the scale parameter).  This has a cdf of:\n",
        "\\begin{align*}\n",
        "F(x) = 1 - \\sum_{n=0}^{k-1} \\frac{1}{n !} e^{-x/\\beta} \\left( \\frac{x}{\\beta} \\right )^n.\n",
        "\\end{align*}\n",
        "\n",
        "You may find the function sc.stats.erlang.cdf(x, a=$k$, loc$=0$, scale = $\\beta$) useful in calculating your final answer as a decimal."
      ]
    },
    {
      "cell_type": "markdown",
      "metadata": {
        "id": "5UjWNuR4bnz7"
      },
      "source": [
        "**Solution:**\n",
        "\n",
        "The true probability that the total insurance claim placed by all customers in a year exceeds 900 is\n",
        "\\begin{align*}\n",
        "\\mathbb{P}(\\text{Erlang}(k, \\beta)>900) = \\mathbb{P}(\\text{Erlang}(5,200)>900)=1-F(900) = 0.5321.\n",
        "\\end{align*}"
      ]
    },
    {
      "cell_type": "code",
      "execution_count": null,
      "metadata": {
        "id": "krXZEe5-bnz7"
      },
      "outputs": [],
      "source": []
    },
    {
      "cell_type": "markdown",
      "metadata": {
        "id": "RJZKgD9xbnz7"
      },
      "source": [
        "d)  Repeat parts (a), (b), and (c) to estimate (using CLT and Monte Carlo) and calculate (using Erlang) the probability that the total claim from 30 customers exceeds 5,400. How does the error of this CLT approximation compare to the error of the CLT approximation in part (a)?  Why do you think this is the case?"
      ]
    },
    {
      "cell_type": "markdown",
      "metadata": {
        "id": "I56No3u3bnz7"
      },
      "source": [
        "**Solution:**\n",
        "\n"
      ]
    },
    {
      "cell_type": "code",
      "execution_count": null,
      "metadata": {
        "id": "cAjT2NTkbnz7"
      },
      "outputs": [],
      "source": []
    },
    {
      "cell_type": "markdown",
      "metadata": {
        "id": "xy9kDx7zbnz7"
      },
      "source": [
        "Note that the error of the CLT approximation is lower than the one in part (a) (~0.016 instead of ~0.056) since we are now approximating the sum of a larger number of random quantities (30 instead of 5) as being normally distributed.\n",
        "\n",
        "---\n",
        "\n",
        "\n",
        "\n",
        "---\n"
      ]
    },
    {
      "cell_type": "markdown",
      "metadata": {
        "id": "yprqES8XnaUK"
      },
      "source": [
        "## Bonus Question\n",
        "In this problem, you will use matrix multiplication to compute Fibbonacci numbers. Remember that the Fibonacci numbers are defined by the recurrence $ F_n  = F_{n-1} + F_{n-2}$ with the initial conditions (base cases) $ F_0=0, F_1=1$. We turn this $2$ term recurrence in to a $1$ term recurrence with vectors and matrices.\n",
        "$$\\begin{bmatrix} F_{n} \\\\F_{n-1} \\end{bmatrix} = \\begin{bmatrix}1 & 1\\\\1 & 0\\end{bmatrix}\\begin{bmatrix} F_{n-1} \\\\F_{n-2} \\end{bmatrix}, \\text{     with initial condition      }  \\begin{bmatrix} F_{1} \\\\F_{0} \\end{bmatrix} = \\begin{bmatrix} 1 \\\\0 \\end{bmatrix}$$\n",
        "\n",
        "Take a moment to convince yourself that these two formulations are equivalent.\n",
        "\n",
        "a) Write a python function that computes the $F_n$, using repeated multiplication by matrix $A$ from above."
      ]
    },
    {
      "cell_type": "markdown",
      "metadata": {
        "id": "eZnlWZTPaVTZ"
      },
      "source": [
        "b) While sequentially multiplying by the matrix above takes $O(n)$ time to compute $F_n$, it is possible to compute the matrix power $A^n$ all at once in only $O(\\log(n))$ time by repeated squaring of the matrix. Conveniently, `np.linalg.matrix_power(A,n)` can do that for you. Write a new routine using the matrix powers and compare the runtime for large $n$ using `%timeit`"
      ]
    },
    {
      "cell_type": "code",
      "execution_count": null,
      "metadata": {
        "id": "9fdfgylF6M_b"
      },
      "outputs": [],
      "source": []
    },
    {
      "cell_type": "code",
      "execution_count": null,
      "metadata": {
        "id": "7MYtQtg862jN"
      },
      "outputs": [],
      "source": []
    }
  ],
  "metadata": {
    "colab": {
      "provenance": []
    },
    "kernelspec": {
      "display_name": "Python 3 (ipykernel)",
      "language": "python",
      "name": "python3"
    },
    "language_info": {
      "codemirror_mode": {
        "name": "ipython",
        "version": 3
      },
      "file_extension": ".py",
      "mimetype": "text/x-python",
      "name": "python",
      "nbconvert_exporter": "python",
      "pygments_lexer": "ipython3",
      "version": "3.7.3"
    }
  },
  "nbformat": 4,
  "nbformat_minor": 0
}