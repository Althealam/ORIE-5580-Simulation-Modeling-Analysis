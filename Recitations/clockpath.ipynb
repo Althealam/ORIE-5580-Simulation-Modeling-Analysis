{
 "cells": [
  {
   "cell_type": "code",
   "execution_count": 1,
   "metadata": {},
   "outputs": [],
   "source": [
    "import numpy as np\n",
    "import matplotlib.pyplot as plt\n",
    "%matplotlib inline\n",
    "\n",
    "# Functions to visualize LCG sequence on clock\n",
    "def plot_clock_face(m,fig,annotate = False):\n",
    "    # Plot the m points on the unit circle\n",
    "    for i in range(m):\n",
    "        theta = 2.0*np.pi*i/m\n",
    "        plt.plot(np.sin(theta),np.cos(theta),'rs')\n",
    "        if annotate:\n",
    "            plt.annotate(str(i), (np.pi/2-theta,1.05),xycoords='polar')\n",
    "\n",
    "\n",
    "def plot_clock_path(m,x,fig,color = 'b'):\n",
    "    # Plot the seed node\n",
    "    theta_0 = 2.0*np.pi*(x[0]*(m+1)-1)/m\n",
    "    plt.plot(np.sin(theta_0),np.cos(theta_0),'gs')\n",
    "    \n",
    "    # Plot the path of the LCG sequence\n",
    "    for i in range(len(x)-1):\n",
    "        theta_start = 2.0*np.pi*(x[i]*(m+1)-1)/m\n",
    "        theta_end = 2.0*np.pi*(x[i+1]*(m+1)-1)/m\n",
    "        x_start = np.sin(theta_start)\n",
    "        y_start = np.cos(theta_start)\n",
    "        del_x = np.sin(theta_end) - np.sin(theta_start)\n",
    "        del_y = np.cos(theta_end) - np.cos(theta_start)\n",
    "        if abs(del_x)>0 or abs(del_y)>0:\n",
    "            plt.arrow(x_start,y_start,del_x,del_y, \n",
    "                      length_includes_head = True, head_width=0.05, head_length=0.1, fc=color, ec=color)"
   ]
  },
  {
   "cell_type": "code",
   "execution_count": null,
   "metadata": {},
   "outputs": [],
   "source": []
  }
 ],
 "metadata": {
  "kernelspec": {
   "display_name": "Python 3",
   "language": "python",
   "name": "python3"
  },
  "language_info": {
   "codemirror_mode": {
    "name": "ipython",
    "version": 3
   },
   "file_extension": ".py",
   "mimetype": "text/x-python",
   "name": "python",
   "nbconvert_exporter": "python",
   "pygments_lexer": "ipython3",
   "version": "3.6.5"
  }
 },
 "nbformat": 4,
 "nbformat_minor": 2
}
